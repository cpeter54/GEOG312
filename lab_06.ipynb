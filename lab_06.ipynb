{
 "cells": [
  {
   "cell_type": "markdown",
   "metadata": {},
   "source": [
    "[![image](https://colab.research.google.com/assets/colab-badge.svg)](https://colab.research.google.com/github/giswqs/geog-312/blob/master/labs/lab_06.ipynb)\n",
    "[![image](https://binder.pangeo.io/badge_logo.svg)](https://gishub.org/geog312-pangeo)\n",
    "\n",
    "**Caroline Petersen**"
   ]
  },
  {
   "cell_type": "code",
   "execution_count": null,
   "metadata": {},
   "outputs": [],
   "source": [
    "from datetime import datetime\n",
    "\n",
    "now = datetime.now()\n",
    "print(f\"Submitted time: {now}\")"
   ]
  },
  {
   "cell_type": "markdown",
   "metadata": {},
   "source": [
    "## Question 1\n",
    "**Message:** Write a function called `display_message()` that prints one sentence telling everyone what you are learning about in this chapter. Call the function, and make sure the message displays correctly."
   ]
  },
  {
   "cell_type": "code",
   "execution_count": 51,
   "metadata": {},
   "outputs": [
    {
     "name": "stdout",
     "output_type": "stream",
     "text": [
      "This chapter we are learning about functions!\n"
     ]
    }
   ],
   "source": [
    "def display_message(): \n",
    "    '''display what you are learning about'''\n",
    "    print(\"This chapter we are learning about functions!\")\n",
    "    \n",
    "display_message()"
   ]
  },
  {
   "cell_type": "markdown",
   "metadata": {},
   "source": [
    "## Question 2\n",
    "**Favorite Book:** Write a function called `favorite_book()` that accepts one parameter, title. The function should print a message, such as `One of my favorite books is Alice in Wonderland`. Call the function, making sure to include a book title as an argument in the function call."
   ]
  },
  {
   "cell_type": "code",
   "execution_count": 52,
   "metadata": {},
   "outputs": [
    {
     "name": "stdout",
     "output_type": "stream",
     "text": [
      "One of my favorite books is The Hobbit\n"
     ]
    }
   ],
   "source": [
    "def favorite_book(title): \n",
    "    '''message about a favorite book'''\n",
    "    print(f\"One of my favorite books is {title}\")\n",
    "\n",
    "favorite_book('The Hobbit')"
   ]
  },
  {
   "cell_type": "markdown",
   "metadata": {},
   "source": [
    "## Question 3\n",
    "**T-Shirt:** Write a function called `make_shirt()` that accepts a size and the text of a message that should be printed on the shirt. The function should print a sentence summarizing the size of the shirt and the message printed on it.\n",
    "\n",
    "Call the function once using positional arguments to make a shirt. Call the function a second time using keyword arguments."
   ]
  },
  {
   "cell_type": "code",
   "execution_count": 53,
   "metadata": {},
   "outputs": [
    {
     "name": "stdout",
     "output_type": "stream",
     "text": [
      "I am a size Medium and I would like a shirt that says I <3 New York.\n",
      "I am a size Small and I would like a shirt that says University Tennessee Geography and Sustainability.\n"
     ]
    }
   ],
   "source": [
    "def make_shirt(size, text):\n",
    "    '''sumarizes the size of the shirt and message'''\n",
    "    print(f\"I am a size {size} and I would like a shirt that says {text}.\")\n",
    "\n",
    "make_shirt('Medium', 'I <3 New York')\n",
    "make_shirt(size='Small', text='University Tennessee Geography and Sustainability')"
   ]
  },
  {
   "cell_type": "markdown",
   "metadata": {},
   "source": [
    "## Question 4\n",
    "**Large Shirts:** Modify the `make_shirt()` function so that shirts are large by default with a message that reads *I love Python*. Make a large shirt and a medium shirt with the default message, and a shirt of any size with a different message."
   ]
  },
  {
   "cell_type": "code",
   "execution_count": 18,
   "metadata": {},
   "outputs": [
    {
     "name": "stdout",
     "output_type": "stream",
     "text": [
      "I am a size large and I would like a shirt that says I love Python.\n",
      "I am a size medium and I would like a shirt that says I love Python.\n",
      "I am a size small and I would like a shirt that says I love C++.\n"
     ]
    }
   ],
   "source": [
    "def make_shirt(size='large', text='I love Python'):\n",
    "    '''large shirt by default'''\n",
    "    print(f\"I am a size {size} and I would like a shirt that says {text}.\")\n",
    "make_shirt()\n",
    "\n",
    "make_shirt(size='medium')\n",
    "make_shirt(size='small', text='I love C++')"
   ]
  },
  {
   "cell_type": "markdown",
   "metadata": {},
   "source": [
    "## Question 5\n",
    "**Cities:** Write a function called `describe_city()` that accepts the name of a city and its country. The function should print a simple sentence, such as `Reykjavik is in Iceland`. Give the parameter for the country a default value. Call your function for three different cities, at least one of which is not in the default country."
   ]
  },
  {
   "cell_type": "code",
   "execution_count": 19,
   "metadata": {},
   "outputs": [
    {
     "name": "stdout",
     "output_type": "stream",
     "text": [
      "Accra is located in Ghana.\n",
      "Kumasi is located in Ghana.\n",
      "New York is located in USA.\n"
     ]
    }
   ],
   "source": [
    "def describe_city(city, country='Ghana'): \n",
    "    '''names a city and its country'''\n",
    "    print(f\"{city} is located in {country}.\")\n",
    "\n",
    "describe_city('Accra')\n",
    "describe_city('Kumasi')\n",
    "describe_city('New York', 'USA')"
   ]
  },
  {
   "cell_type": "markdown",
   "metadata": {},
   "source": [
    "## Question 6\n",
    "**City Names:** Write a function called `city_country()` that takes in the name of a city and its country. The function should return a string formatted like this:\n",
    "```\n",
    "Santiago, Chile\n",
    "```\n",
    "Call your function with at least three city-country pairs, and print the values that are returned."
   ]
  },
  {
   "cell_type": "code",
   "execution_count": 22,
   "metadata": {},
   "outputs": [
    {
     "name": "stdout",
     "output_type": "stream",
     "text": [
      "Santiago, Chile\n",
      "Paris, France\n",
      "London, UK\n"
     ]
    }
   ],
   "source": [
    "def city_country(city, country):\n",
    "    '''names a city and country pair'''\n",
    "    print(f\"{city}, {country}\")\n",
    "    \n",
    "location1 = city_country('Santiago', 'Chile')\n",
    "location2 = city_country('Paris', 'France')\n",
    "location3 = city_country('London', 'UK')"
   ]
  },
  {
   "cell_type": "markdown",
   "metadata": {},
   "source": [
    "## Question 7\n",
    "**Album:** Write a function called `make_album()` that builds a dictionary describing a music album. The function should take in an artist name and an album title, and it should return a dictionary containing these two pieces of information. Use the function to make three dictionaries representing different albums. Print each return value to show that the dictionaries are storing the album information correctly.\n",
    "\n",
    "Use None to add an optional parameter to make_album() that allows you to store the number of songs on an album. If the calling line includes a value for the number of songs, add that value to the album’s dictionary. Make at least one new function call that includes the number of songs on an album."
   ]
  },
  {
   "cell_type": "code",
   "execution_count": 25,
   "metadata": {},
   "outputs": [
    {
     "name": "stdout",
     "output_type": "stream",
     "text": [
      "{'artist name': 'Sexy Sushi', 'album title': 'Marre marre marre', 'number of songs': 12}\n",
      "{'artist name': 'Rico Nasty', 'album title': 'Nightmare Vacation'}\n",
      "{'artist name': 'King Krule', 'album title': 'The OOZ', 'number of songs': 19}\n"
     ]
    }
   ],
   "source": [
    "def make_album(artist, title, number_of_songs=None):\n",
    "    '''describes information about a music album'''\n",
    "    album = {'artist name': artist, 'album title': title}\n",
    "    if number_of_songs:\n",
    "        album['number of songs'] = number_of_songs\n",
    "    return album\n",
    "\n",
    "\n",
    "album1 = make_album('Sexy Sushi', 'Marre marre marre', 12)\n",
    "album2 = make_album('Rico Nasty', 'Nightmare Vacation')\n",
    "album3 = make_album('King Krule', 'The OOZ', 19)\n",
    "\n",
    "print(album1)\n",
    "print(album2)\n",
    "print(album3)"
   ]
  },
  {
   "cell_type": "markdown",
   "metadata": {},
   "source": [
    "## Question 8\n",
    "**User Albums:** Start with your program from Question 7. Write a `while` loop that allows users to enter an album’s artist and title. Once you have that information, call `make_album()` with the user’s input and print the dictionary that’s created. Be sure to include a quit value in the `while` loop."
   ]
  },
  {
   "cell_type": "code",
   "execution_count": 13,
   "metadata": {},
   "outputs": [
    {
     "name": "stdout",
     "output_type": "stream",
     "text": [
      "Enter the name of your favorite music artist (type 'quit' to exit): sexy sushi\n",
      "Enter the name of their ablum: marre marre marre\n",
      "{'artist name': 'sexy sushi', 'album title': 'marre marre marre'}\n",
      "Enter the name of your favorite music artist (type 'quit' to exit): quit\n"
     ]
    }
   ],
   "source": [
    "def make_album(artist, title, number_of_songs=None):\n",
    "    '''describes information about a music album'''\n",
    "    album = {'artist name': artist, 'album title': title}\n",
    "    if number_of_songs:\n",
    "        album['number of songs'] = number_of_songs\n",
    "    return album\n",
    "\n",
    "while True: \n",
    "    artist_input = input(\"Enter the name of your favorite music artist (type 'quit' to exit): \")\n",
    "    if artist_input == 'quit': \n",
    "        break\n",
    "    title_input = input(\"Enter the name of their ablum: \")\n",
    "    \n",
    "    album_info = make_album(artist_input, title_input)\n",
    "    print(album_info)"
   ]
  },
  {
   "cell_type": "markdown",
   "metadata": {},
   "source": [
    "## Question 9\n",
    "**Messages:** Make a list containing a series of short text messages. Pass the list to a function called `show_messages()`, which prints each text message."
   ]
  },
  {
   "cell_type": "code",
   "execution_count": 15,
   "metadata": {},
   "outputs": [
    {
     "name": "stdout",
     "output_type": "stream",
     "text": [
      "I <3 pokemon go\n",
      "Do you want to go do a raid?\n",
      "Look what I caught!\n"
     ]
    }
   ],
   "source": [
    "def show_messages(messages): \n",
    "    '''show messages in a list'''\n",
    "    for message in messages: \n",
    "        print(message)\n",
    "        \n",
    "messages = ['I <3 pokemon go', 'Do you want to go do a raid?', 'Look what I caught!']\n",
    "show_messages(messages)"
   ]
  },
  {
   "cell_type": "markdown",
   "metadata": {},
   "source": [
    "## Question 10\n",
    "**Sending Messages:** Start with a copy of your program from Question 9. Write a function called `send_messages()` that prints each text message and moves each message to a new list called `sent_messages` as it’s printed. After calling the function, print both of your lists to make sure the messages were moved correctly."
   ]
  },
  {
   "cell_type": "code",
   "execution_count": 18,
   "metadata": {},
   "outputs": [
    {
     "name": "stdout",
     "output_type": "stream",
     "text": [
      "I <3 pokemon go\n",
      "Do you want to go do a raid?\n",
      "Look what I caught!\n",
      "\n",
      "\n",
      "Sending message: Look what I caught!\n",
      "Sending message: Do you want to go do a raid?\n",
      "Sending message: I <3 pokemon go\n",
      "\n",
      "Final lists:\n",
      "[]\n",
      "['Look what I caught!', 'Do you want to go do a raid?', 'I <3 pokemon go']\n"
     ]
    }
   ],
   "source": [
    "def show_messages(messages):\n",
    "    '''show messages in a list'''\n",
    "    for message in messages:\n",
    "        print(message)\n",
    "        \n",
    "def send_messages(messages, sent_messages):\n",
    "    '''send messages and move them to sent_messages list'''\n",
    "    print(f\"\\n\")\n",
    "    while messages:\n",
    "        current_message = messages.pop()\n",
    "        print(\"Sending message:\", current_message)\n",
    "        sent_messages.append(current_message)\n",
    "\n",
    "messages = ['I <3 pokemon go', 'Do you want to go do a raid?', 'Look what I caught!']\n",
    "show_messages(messages)\n",
    "\n",
    "sent_messages = []\n",
    "send_messages(messages, sent_messages)\n",
    "\n",
    "print(\"\\nFinal lists:\")\n",
    "print(messages)\n",
    "print(sent_messages)"
   ]
  },
  {
   "cell_type": "markdown",
   "metadata": {},
   "source": [
    "## Question 11\n",
    "**Archived Messages:** Start with your work from Question 10. Call the function `send_messages()` with a copy of the list of messages. After calling the function, print both of your lists to show that the original list has retained its messages."
   ]
  },
  {
   "cell_type": "code",
   "execution_count": 19,
   "metadata": {},
   "outputs": [
    {
     "name": "stdout",
     "output_type": "stream",
     "text": [
      "I <3 pokemon go\n",
      "Do you want to go do a raid?\n",
      "Look what I caught!\n",
      "\n",
      "\n",
      "Sending message: Look what I caught!\n",
      "Sending message: Do you want to go do a raid?\n",
      "Sending message: I <3 pokemon go\n",
      "\n",
      "Final lists:\n",
      "['I <3 pokemon go', 'Do you want to go do a raid?', 'Look what I caught!']\n",
      "['Look what I caught!', 'Do you want to go do a raid?', 'I <3 pokemon go']\n"
     ]
    }
   ],
   "source": [
    "def show_messages(messages):\n",
    "    '''show messages in a list'''\n",
    "    for message in messages:\n",
    "        print(message)\n",
    "\n",
    "def send_messages(messages, sent_messages):\n",
    "    '''send messages and move them to sent_messages list'''\n",
    "    print(f\"\\n\")\n",
    "    while messages:\n",
    "        current_message = messages.pop()\n",
    "        print(\"Sending message:\", current_message)\n",
    "        sent_messages.append(current_message)\n",
    "\n",
    "messages = ['I <3 pokemon go', 'Do you want to go do a raid?', 'Look what I caught!']\n",
    "show_messages(messages)\n",
    "\n",
    "sent_messages = []\n",
    "send_messages(messages[:], sent_messages)\n",
    "\n",
    "print(\"\\nFinal lists:\")\n",
    "print(messages)\n",
    "print(sent_messages)"
   ]
  },
  {
   "cell_type": "markdown",
   "metadata": {},
   "source": [
    "## Question 12\n",
    "**Sandwiches:** Write a function that accepts a list of items a person wants on a sandwich. The function should have one parameter that collects as many items as the function call provides, and it should print a summary of the sandwich that’s being ordered. Call the function three times, using a different number of arguments each time."
   ]
  },
  {
   "cell_type": "code",
   "execution_count": 21,
   "metadata": {},
   "outputs": [
    {
     "name": "stdout",
     "output_type": "stream",
     "text": [
      "Here is how you make this sandwich:\n",
      "- Nutella\n",
      "- Banana\n",
      "- Honey\n",
      "- Cinnamon\n",
      "\n",
      "\n",
      "Here is how you make this sandwich:\n",
      "- Chicken Breast\n",
      "- Salami\n",
      "- Gouda\n",
      "- Slaw\n",
      "- Tomato\n",
      "- Dijon Mustard\n",
      "- Kewpie Mayo\n",
      "\n",
      "\n",
      "Here is how you make this sandwich:\n",
      "- Peanut Butter\n",
      "- Raisins\n",
      "\n",
      "\n"
     ]
    }
   ],
   "source": [
    "def make_sandwich(*items):\n",
    "    '''listing how to make a sandwich'''\n",
    "    print(\"Here is how you make this sandwich:\")\n",
    "    for item in items:\n",
    "        print(f\"- {item}\")\n",
    "    print(f\"\\n\")\n",
    "\n",
    "make_sandwich(\"Nutella\", \"Banana\", \"Honey\", \"Cinnamon\")\n",
    "make_sandwich(\"Chicken Breast\", \"Salami\", \"Gouda\", \"Slaw\", \"Tomato\", \"Dijon Mustard\", \"Kewpie Mayo\")\n",
    "make_sandwich(\"Peanut Butter\", \"Raisins\")"
   ]
  },
  {
   "cell_type": "markdown",
   "metadata": {},
   "source": [
    "## Question 13\n",
    "**Cars:** Write a function that stores information about a car in a dictionary. The function should always receive a manufacturer and a model name. It should then accept an arbitrary number of keyword arguments. Call the function with the required information and two other name-value pairs, such as a color or an optional feature. Your function should work for a call like this one:\n",
    "```\n",
    "car = make_car('subaru', 'outback', color='blue', tow_package=True)\n",
    "```\n",
    "Print the dictionary that’s returned to make sure all the information was stored correctly."
   ]
  },
  {
   "cell_type": "code",
   "execution_count": 25,
   "metadata": {},
   "outputs": [
    {
     "name": "stdout",
     "output_type": "stream",
     "text": [
      "{'manufacturer': 'Nissan', 'model': 'Sentra', 'color': 'white', 'year': 2017}\n"
     ]
    }
   ],
   "source": [
    "def make_car(manufacturer, model, **additional_info):\n",
    "    car_info = {'manufacturer': manufacturer,'model': model,}\n",
    "\n",
    "    for info, value in additional_info.items():\n",
    "        car_info[info] = value\n",
    "\n",
    "    return car_info\n",
    "\n",
    "car = make_car('Nissan', 'Sentra', color='white', year=2017)\n",
    "print(car)"
   ]
  },
  {
   "cell_type": "markdown",
   "metadata": {},
   "source": [
    "## Question 14\n",
    "**Restaurant:** Make a class called `Restaurant`. The `__init__()` method for `Restaurant` should store two attributes: a `restaurant_name` and a `cuisine_type`. Make a method called `describe_restaurant()` that prints these two pieces of information, and a method called `open_restaurant()` that prints a message indicating that the restaurant is open.\n",
    "\n",
    "Make an instance called `restaurant` from your class. Print the two attributes individually, and then call both methods."
   ]
  },
  {
   "cell_type": "code",
   "execution_count": 33,
   "metadata": {},
   "outputs": [
    {
     "name": "stdout",
     "output_type": "stream",
     "text": [
      "Restaurant Name: Olive Garden\n",
      "Cuisine Type: Italian\n",
      "Olive Garden is a really good Italian spot.\n",
      "The restaurant Olive Garden is open!\n"
     ]
    }
   ],
   "source": [
    "class Restaurant:\n",
    "    '''class for the restaurant'''\n",
    "    def __init__(self, restaurant_name, cuisine_type):\n",
    "        self.restaurant_name = restaurant_name\n",
    "        self.cuisine_type = cuisine_type\n",
    "\n",
    "    def describe_restaurant(self):\n",
    "        '''info about restaurant'''\n",
    "        print(f\"{self.restaurant_name} is a really good {self.cuisine_type} spot.\")\n",
    "\n",
    "    def open_restaurant(self):\n",
    "        '''message when restaurant open'''\n",
    "        print(f\"The restaurant {self.restaurant_name} is open!\")\n",
    "\n",
    "restaurant = Restaurant('Olive Garden', 'Italian')\n",
    "\n",
    "print(f\"Restaurant Name: {restaurant.restaurant_name}\")\n",
    "print(f\"Cuisine Type: {restaurant.cuisine_type}\")\n",
    "\n",
    "restaurant.describe_restaurant()\n",
    "restaurant.open_restaurant()"
   ]
  },
  {
   "cell_type": "markdown",
   "metadata": {},
   "source": [
    "## Question 15\n",
    "**Three Restaurants:** Start with your class from Question 14. Create three different instances from the class, and call `describe_restaurant()` for each instance."
   ]
  },
  {
   "cell_type": "code",
   "execution_count": 35,
   "metadata": {},
   "outputs": [
    {
     "name": "stdout",
     "output_type": "stream",
     "text": [
      "Olive Garden is a really good Italian spot.\n",
      "\n",
      "\n",
      "Clay Pit is a really good Indian spot.\n",
      "\n",
      "\n",
      "Stock and Barrel is a really good American spot.\n"
     ]
    }
   ],
   "source": [
    "class Restaurant:\n",
    "    '''class for the restaurant'''\n",
    "    def __init__(self, restaurant_name, cuisine_type):\n",
    "        self.restaurant_name = restaurant_name\n",
    "        self.cuisine_type = cuisine_type\n",
    "\n",
    "    def describe_restaurant(self):\n",
    "        '''info about restaurant'''\n",
    "        print(f\"{self.restaurant_name} is a really good {self.cuisine_type} spot.\")\n",
    "\n",
    "    def open_restaurant(self):\n",
    "        '''message when restaurant open'''\n",
    "        print(f\"The restaurant {self.restaurant_name} is open!\")\n",
    "\n",
    "restaurant1 = Restaurant('Olive Garden', 'Italian')\n",
    "restaurant2 = Restaurant('Clay Pit', 'Indian')\n",
    "restaurant3 = Restaurant('Stock and Barrel', 'American')\n",
    "\n",
    "restaurant1.describe_restaurant()\n",
    "print(\"\\n\")\n",
    "restaurant2.describe_restaurant()\n",
    "print(\"\\n\")\n",
    "restaurant3.describe_restaurant()"
   ]
  },
  {
   "cell_type": "markdown",
   "metadata": {},
   "source": [
    "## Question 16\n",
    "**Users:** Make a class called `User`. Create two attributes called `first_name` and `last_name`, and then create several other attributes that are typically stored in a user profile. Make a method called `describe_user()` that prints a summary of the user’s information. Make another method called `greet_user()` that prints a personalized greeting to the user.\n",
    "\n",
    "Create several instances representing different users, and call both methods for each user."
   ]
  },
  {
   "cell_type": "code",
   "execution_count": 34,
   "metadata": {},
   "outputs": [
    {
     "name": "stdout",
     "output_type": "stream",
     "text": [
      "User Information:\n",
      "Name: Gracia Tu\n",
      "Age: 25\n",
      "Email: gtu@gmail.com\n",
      "Location: Knoxville\n",
      "Hello, Gracia! Welcome back.\n",
      "\n",
      "\n",
      "User Information:\n",
      "Name: Ahmad Tobassei\n",
      "Age: 30\n",
      "Email: ahmad54@gmail.com\n",
      "Location: Murfreeboro\n",
      "Hello, Ahmad! Welcome back.\n",
      "\n",
      "\n",
      "User Information:\n",
      "Name: Anjaney Sharma\n",
      "Age: 22\n",
      "Email: anjaney.sharma@gmail.com\n",
      "Location: Smyrna\n",
      "Hello, Anjaney! Welcome back.\n"
     ]
    }
   ],
   "source": [
    "class User:\n",
    "    def __init__(self, first_name, last_name, age, email, location):\n",
    "        self.first_name = first_name\n",
    "        self.last_name = last_name\n",
    "        self.age = age\n",
    "        self.email = email\n",
    "        self.location = location\n",
    "\n",
    "    def describe_user(self):\n",
    "        print(f\"User Information:\")\n",
    "        print(f\"Name: {self.first_name} {self.last_name}\")\n",
    "        print(f\"Age: {self.age}\")\n",
    "        print(f\"Email: {self.email}\")\n",
    "        print(f\"Location: {self.location}\")\n",
    "\n",
    "    def greet_user(self):\n",
    "        print(f\"Hello, {self.first_name}! Welcome back.\")\n",
    "\n",
    "user1 = User('Gracia', 'Tu', 25, 'gtu@gmail.com', 'Knoxville')\n",
    "user2 = User('Ahmad', 'Tobassei', 30, 'ahmad54@gmail.com', 'Murfreeboro')\n",
    "user3 = User('Anjaney', 'Sharma', 22, 'anjaney.sharma@gmail.com', 'Smyrna')\n",
    "\n",
    "user1.describe_user()\n",
    "user1.greet_user()\n",
    "print(\"\\n\")\n",
    "\n",
    "user2.describe_user()\n",
    "user2.greet_user()\n",
    "print(\"\\n\")\n",
    "\n",
    "user3.describe_user()\n",
    "user3.greet_user()"
   ]
  },
  {
   "cell_type": "markdown",
   "metadata": {},
   "source": [
    "## Question 17\n",
    "**Number Served:** Start with your program from Question 14. Add an attribute called `number_served` with a default value of 0. Create an instance called `restaurant` from this class. Print the number of customers the restaurant has served, and then change this value and print it again.\n",
    "\n",
    "Add a method called `set_number_served()` that lets you set the number of customers that have been served. Call this method with a new number and print the value again.\n",
    "\n",
    "Add a method called `increment_number_served()` that lets you increment the number of customers who’ve been served.\n",
    "\n",
    "Call this method with any number you like that could represent how many customers were served in, say, a day of business."
   ]
  },
  {
   "cell_type": "code",
   "execution_count": 39,
   "metadata": {},
   "outputs": [
    {
     "name": "stdout",
     "output_type": "stream",
     "text": [
      "Olive Garden is a really good Italian spot.\n",
      "Number Served: 0\n",
      "Olive Garden is a really good Italian spot.\n",
      "Number Served: 50\n",
      "Olive Garden is a really good Italian spot.\n",
      "Number Served: 80\n"
     ]
    }
   ],
   "source": [
    "class Restaurant:\n",
    "    '''class for the restaurant'''\n",
    "    def __init__(self, restaurant_name, cuisine_type):\n",
    "        self.restaurant_name = restaurant_name\n",
    "        self.cuisine_type = cuisine_type\n",
    "        self.number_served = 0\n",
    "\n",
    "    def describe_restaurant(self):\n",
    "        '''info about restaurant'''\n",
    "        print(f\"{self.restaurant_name} is a really good {self.cuisine_type} spot.\")\n",
    "        print(f\"Number Served: {self.number_served}\")\n",
    "\n",
    "    def open_restaurant(self):\n",
    "        '''message when restaurant open'''\n",
    "        print(f\"The restaurant {self.restaurant_name} is open!\")\n",
    "\n",
    "    def set_number_served(self, number):\n",
    "        '''set the number of customers served'''\n",
    "        self.number_served = number\n",
    "\n",
    "    def increment_number_served(self, increment):\n",
    "        '''increment the number of customers served'''\n",
    "        self.number_served += increment\n",
    "\n",
    "restaurant = Restaurant('Olive Garden', 'Italian')\n",
    "\n",
    "restaurant.describe_restaurant()\n",
    "\n",
    "restaurant.set_number_served(50)\n",
    "restaurant.describe_restaurant()\n",
    "\n",
    "restaurant.increment_number_served(30)\n",
    "restaurant.describe_restaurant()"
   ]
  },
  {
   "cell_type": "markdown",
   "metadata": {},
   "source": [
    "## Question 18\n",
    "**Login Attempts:** Add an attribute called login_attempts to your User class from Question 16. Write a method called `increment_login_attempts()` that increments the value of `login_attempts` by 1. Write another method called `reset_login_attempts()` that resets the value of login_attempts to 0.\n",
    "\n",
    "Make an instance of the `User` class and call `increment_login_attempts()` several times. Print the value of `login_attempts` to make sure it was incremented properly, and then call `reset_login_attempts()`. Print `login_attempts` again to make sure it was reset to 0."
   ]
  },
  {
   "cell_type": "code",
   "execution_count": 46,
   "metadata": {},
   "outputs": [
    {
     "name": "stdout",
     "output_type": "stream",
     "text": [
      "Before reset:\n",
      "User Information:\n",
      "Name: John Doe\n",
      "Age: 25\n",
      "Email: john.doe@gmail.com\n",
      "Location: New York\n",
      "Login Attempts: 3\n",
      "Hello, John! Welcome back.\n",
      "\n",
      "After reset:\n",
      "User Information:\n",
      "Name: John Doe\n",
      "Age: 25\n",
      "Email: john.doe@gmail.com\n",
      "Location: New York\n",
      "Login Attempts: 0\n",
      "Hello, John! Welcome back.\n"
     ]
    }
   ],
   "source": [
    "class User:\n",
    "    def __init__(self, first_name, last_name, age, email, location):\n",
    "        self.first_name = first_name\n",
    "        self.last_name = last_name\n",
    "        self.age = age\n",
    "        self.email = email\n",
    "        self.location = location\n",
    "        self.login_attempts = 0 \n",
    "\n",
    "    def describe_user(self):\n",
    "        print(f\"User Information:\")\n",
    "        print(f\"Name: {self.first_name} {self.last_name}\")\n",
    "        print(f\"Age: {self.age}\")\n",
    "        print(f\"Email: {self.email}\")\n",
    "        print(f\"Location: {self.location}\")\n",
    "        print(f\"Login Attempts: {self.login_attempts}\")\n",
    "\n",
    "    def greet_user(self):\n",
    "        print(f\"Hello, {self.first_name}! Welcome back.\")\n",
    "\n",
    "    def increment_login_attempts(self):\n",
    "        self.login_attempts += 1\n",
    "\n",
    "    def reset_login_attempts(self):\n",
    "        self.login_attempts = 0\n",
    "\n",
    "user1 = User('John', 'Doe', 25, 'john.doe@gmail.com', 'New York')\n",
    "\n",
    "user1.increment_login_attempts()\n",
    "user1.increment_login_attempts()\n",
    "user1.increment_login_attempts()\n",
    "\n",
    "print(\"Before reset:\")\n",
    "user1.describe_user()\n",
    "user1.greet_user()\n",
    "\n",
    "user1.reset_login_attempts()\n",
    "\n",
    "print(\"\\nAfter reset:\")\n",
    "user1.describe_user()\n",
    "user1.greet_user()"
   ]
  },
  {
   "cell_type": "markdown",
   "metadata": {},
   "source": [
    "## Question 19\n",
    "**Dice:** Make a class `Die` with one attribute called `sides`, which has a default value of 6. Write a method called `roll_die()` that prints a random number between 1 and the number of sides the die has. Make a 6-sided die and roll it 10 times.\n",
    "\n",
    "Make a 10-sided die and a 20-sided die. Roll each die 10 times."
   ]
  },
  {
   "cell_type": "code",
   "execution_count": 49,
   "metadata": {},
   "outputs": [
    {
     "name": "stdout",
     "output_type": "stream",
     "text": [
      "Rolling a 6-sided die 10 times:\n",
      "6\n",
      "3\n",
      "6\n",
      "1\n",
      "3\n",
      "4\n",
      "3\n",
      "1\n",
      "2\n",
      "5\n",
      "\n",
      "Rolling a 10-sided die 10 times:\n",
      "10\n",
      "8\n",
      "3\n",
      "5\n",
      "4\n",
      "1\n",
      "1\n",
      "3\n",
      "8\n",
      "7\n",
      "\n",
      "Rolling a 20-sided die 10 times:\n",
      "4\n",
      "6\n",
      "18\n",
      "17\n",
      "16\n",
      "12\n",
      "16\n",
      "15\n",
      "18\n",
      "11\n"
     ]
    }
   ],
   "source": [
    "import random\n",
    "\n",
    "class Die:\n",
    "    def __init__(self, sides=6):\n",
    "        self.sides = sides\n",
    "\n",
    "    def roll_die(self):\n",
    "        result = random.randint(1, self.sides)\n",
    "        print(result)\n",
    "\n",
    "six_sided_die = Die()\n",
    "print(\"Rolling a 6-sided die 10 times:\")\n",
    "for roll in range(10):\n",
    "    six_sided_die.roll_die()\n",
    "\n",
    "ten_sided_die = Die(sides=10)\n",
    "print(\"\\nRolling a 10-sided die 10 times:\")\n",
    "for roll in range(10):\n",
    "    ten_sided_die.roll_die()\n",
    "\n",
    "twenty_sided_die = Die(sides=20)\n",
    "print(\"\\nRolling a 20-sided die 10 times:\")\n",
    "for roll in range(10):\n",
    "    twenty_sided_die.roll_die()"
   ]
  },
  {
   "cell_type": "markdown",
   "metadata": {},
   "source": [
    "## Question 20\n",
    "**Lottery:** Make a list or tuple containing a series of 10 numbers and five letters. Randomly select four numbers or letters from the list and print a message saying that any ticket matching these four numbers or letters wins a prize.\n",
    "\n",
    "You can use a loop to see how hard it might be to win the kind of lottery you just modeled. Make a list or tuple called `my_ticket`. Write a loop that keeps pulling numbers until your ticket wins. Print a message reporting how many times the loop had to run to give you a winning ticket."
   ]
  },
  {
   "cell_type": "code",
   "execution_count": 50,
   "metadata": {},
   "outputs": [
    {
     "name": "stdout",
     "output_type": "stream",
     "text": [
      "Winning combination: [8, 2, 9, 10]\n",
      "Congratulations! Your ticket won after 84034 attempts.\n"
     ]
    }
   ],
   "source": [
    "import random\n",
    "\n",
    "lottery_numbers_and_letters = [1, 2, 3, 4, 5, 6, 7, 8, 9, 10, 'A', 'B', 'C', 'D', 'E']\n",
    "\n",
    "winning_combination = random.sample(lottery_numbers_and_letters, 4)\n",
    "\n",
    "print(f\"Winning combination: {winning_combination}\")\n",
    "\n",
    "my_ticket = [6, 'A', 3, 9]\n",
    "\n",
    "attempts = 0\n",
    "\n",
    "while True:\n",
    "    attempts += 1\n",
    "    random_ticket = random.sample(lottery_numbers_and_letters, 4)\n",
    "    if random_ticket == my_ticket:\n",
    "        print(f\"Congratulations! Your ticket won after {attempts} attempts.\")\n",
    "        break"
   ]
  }
 ],
 "metadata": {
  "kernelspec": {
   "display_name": "Python 3 (ipykernel)",
   "language": "python",
   "name": "python3"
  },
  "language_info": {
   "codemirror_mode": {
    "name": "ipython",
    "version": 3
   },
   "file_extension": ".py",
   "mimetype": "text/x-python",
   "name": "python",
   "nbconvert_exporter": "python",
   "pygments_lexer": "ipython3",
   "version": "3.11.4"
  }
 },
 "nbformat": 4,
 "nbformat_minor": 2
}
