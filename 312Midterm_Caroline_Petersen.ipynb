{
 "cells": [
  {
   "cell_type": "markdown",
   "id": "d1751f71",
   "metadata": {},
   "source": [
    "# Caroline Petersen "
   ]
  },
  {
   "cell_type": "markdown",
   "id": "c0a6aa6e",
   "metadata": {},
   "source": [
    "## Question 1"
   ]
  },
  {
   "cell_type": "markdown",
   "id": "551bf137",
   "metadata": {},
   "source": [
    "Please write a python script that provides a printed output for the following arithmetic functions (you can use any numbers):<br>\n",
    "Multiplication <br>\n",
    "Division <br>\n",
    "Addition<br>\n",
    "Subtraction <br>\n",
    "Modulo Operator"
   ]
  },
  {
   "cell_type": "code",
   "execution_count": 8,
   "id": "7f499d63",
   "metadata": {},
   "outputs": [
    {
     "name": "stdout",
     "output_type": "stream",
     "text": [
      "24\n",
      "0.6666666666666666\n",
      "10\n",
      "-2\n",
      "4\n"
     ]
    }
   ],
   "source": [
    "a = 4\n",
    "b = 6\n",
    "print(a * b)\n",
    "print(a / b)\n",
    "print(a + b)\n",
    "print(a - b)\n",
    "print(a % b)"
   ]
  },
  {
   "cell_type": "markdown",
   "id": "dc28314e",
   "metadata": {},
   "source": [
    "## Question 2"
   ]
  },
  {
   "cell_type": "markdown",
   "id": "145f7989",
   "metadata": {},
   "source": [
    "Create an array with at least one of each data type. Create an array with only one data type. Compare the data types using a logical expression (equals, greater than or equal, not equal). Please have these values printed out."
   ]
  },
  {
   "cell_type": "code",
   "execution_count": 37,
   "id": "1f221ce7",
   "metadata": {},
   "outputs": [
    {
     "name": "stdout",
     "output_type": "stream",
     "text": [
      "True\n",
      "False\n",
      "True\n"
     ]
    }
   ],
   "source": [
    "array1 = [\"Christmas\", True, 679, 1.1, ['1', '2']]\n",
    "array2 = [2,4,6,8,10]\n",
    "\n",
    "equal = type(array1) == type(array2)\n",
    "not_equal = type(array1) != type(array2)\n",
    "is_array1_longer = len(array1) >= len(array2)\n",
    "\n",
    "print(equal)\n",
    "print(not_equal)\n",
    "print(is_array1_longer)"
   ]
  },
  {
   "cell_type": "markdown",
   "id": "eedca26b",
   "metadata": {},
   "source": [
    "## Question 3"
   ]
  },
  {
   "cell_type": "markdown",
   "id": "e3668182",
   "metadata": {},
   "source": [
    "Create a list and use a for loop to print out each element of that list."
   ]
  },
  {
   "cell_type": "code",
   "execution_count": 10,
   "id": "c0b5c1da",
   "metadata": {},
   "outputs": [
    {
     "name": "stdout",
     "output_type": "stream",
     "text": [
      "apple\n",
      "strawberry\n",
      "banana\n",
      "pear\n",
      "orange\n"
     ]
    }
   ],
   "source": [
    "fruits = ['apple', 'strawberry', 'banana', 'pear', 'orange']\n",
    "for fruit in fruits:\n",
    "    print(fruit)"
   ]
  },
  {
   "cell_type": "markdown",
   "id": "fa404c83",
   "metadata": {},
   "source": [
    "## Question 4"
   ]
  },
  {
   "cell_type": "markdown",
   "id": "eb98cda0",
   "metadata": {},
   "source": [
    "Create an array with numbers ranging from 1 to 100. Using a for loop, change the value of each even number in the total range of values to be equal to 0 within the array. Print out the final results as a table."
   ]
  },
  {
   "cell_type": "code",
   "execution_count": 8,
   "id": "4c68dabe",
   "metadata": {},
   "outputs": [
    {
     "name": "stdout",
     "output_type": "stream",
     "text": [
      "+---------+---------+\n",
      "|   Index |   Value |\n",
      "+=========+=========+\n",
      "|       0 |       1 |\n",
      "+---------+---------+\n",
      "|       1 |       0 |\n",
      "+---------+---------+\n",
      "|       2 |       3 |\n",
      "+---------+---------+\n",
      "|       3 |       0 |\n",
      "+---------+---------+\n",
      "|       4 |       5 |\n",
      "+---------+---------+\n",
      "|       5 |       0 |\n",
      "+---------+---------+\n",
      "|       6 |       7 |\n",
      "+---------+---------+\n",
      "|       7 |       0 |\n",
      "+---------+---------+\n",
      "|       8 |       9 |\n",
      "+---------+---------+\n",
      "|       9 |       0 |\n",
      "+---------+---------+\n",
      "|      10 |      11 |\n",
      "+---------+---------+\n",
      "|      11 |       0 |\n",
      "+---------+---------+\n",
      "|      12 |      13 |\n",
      "+---------+---------+\n",
      "|      13 |       0 |\n",
      "+---------+---------+\n",
      "|      14 |      15 |\n",
      "+---------+---------+\n",
      "|      15 |       0 |\n",
      "+---------+---------+\n",
      "|      16 |      17 |\n",
      "+---------+---------+\n",
      "|      17 |       0 |\n",
      "+---------+---------+\n",
      "|      18 |      19 |\n",
      "+---------+---------+\n",
      "|      19 |       0 |\n",
      "+---------+---------+\n",
      "|      20 |      21 |\n",
      "+---------+---------+\n",
      "|      21 |       0 |\n",
      "+---------+---------+\n",
      "|      22 |      23 |\n",
      "+---------+---------+\n",
      "|      23 |       0 |\n",
      "+---------+---------+\n",
      "|      24 |      25 |\n",
      "+---------+---------+\n",
      "|      25 |       0 |\n",
      "+---------+---------+\n",
      "|      26 |      27 |\n",
      "+---------+---------+\n",
      "|      27 |       0 |\n",
      "+---------+---------+\n",
      "|      28 |      29 |\n",
      "+---------+---------+\n",
      "|      29 |       0 |\n",
      "+---------+---------+\n",
      "|      30 |      31 |\n",
      "+---------+---------+\n",
      "|      31 |       0 |\n",
      "+---------+---------+\n",
      "|      32 |      33 |\n",
      "+---------+---------+\n",
      "|      33 |       0 |\n",
      "+---------+---------+\n",
      "|      34 |      35 |\n",
      "+---------+---------+\n",
      "|      35 |       0 |\n",
      "+---------+---------+\n",
      "|      36 |      37 |\n",
      "+---------+---------+\n",
      "|      37 |       0 |\n",
      "+---------+---------+\n",
      "|      38 |      39 |\n",
      "+---------+---------+\n",
      "|      39 |       0 |\n",
      "+---------+---------+\n",
      "|      40 |      41 |\n",
      "+---------+---------+\n",
      "|      41 |       0 |\n",
      "+---------+---------+\n",
      "|      42 |      43 |\n",
      "+---------+---------+\n",
      "|      43 |       0 |\n",
      "+---------+---------+\n",
      "|      44 |      45 |\n",
      "+---------+---------+\n",
      "|      45 |       0 |\n",
      "+---------+---------+\n",
      "|      46 |      47 |\n",
      "+---------+---------+\n",
      "|      47 |       0 |\n",
      "+---------+---------+\n",
      "|      48 |      49 |\n",
      "+---------+---------+\n",
      "|      49 |       0 |\n",
      "+---------+---------+\n",
      "|      50 |      51 |\n",
      "+---------+---------+\n",
      "|      51 |       0 |\n",
      "+---------+---------+\n",
      "|      52 |      53 |\n",
      "+---------+---------+\n",
      "|      53 |       0 |\n",
      "+---------+---------+\n",
      "|      54 |      55 |\n",
      "+---------+---------+\n",
      "|      55 |       0 |\n",
      "+---------+---------+\n",
      "|      56 |      57 |\n",
      "+---------+---------+\n",
      "|      57 |       0 |\n",
      "+---------+---------+\n",
      "|      58 |      59 |\n",
      "+---------+---------+\n",
      "|      59 |       0 |\n",
      "+---------+---------+\n",
      "|      60 |      61 |\n",
      "+---------+---------+\n",
      "|      61 |       0 |\n",
      "+---------+---------+\n",
      "|      62 |      63 |\n",
      "+---------+---------+\n",
      "|      63 |       0 |\n",
      "+---------+---------+\n",
      "|      64 |      65 |\n",
      "+---------+---------+\n",
      "|      65 |       0 |\n",
      "+---------+---------+\n",
      "|      66 |      67 |\n",
      "+---------+---------+\n",
      "|      67 |       0 |\n",
      "+---------+---------+\n",
      "|      68 |      69 |\n",
      "+---------+---------+\n",
      "|      69 |       0 |\n",
      "+---------+---------+\n",
      "|      70 |      71 |\n",
      "+---------+---------+\n",
      "|      71 |       0 |\n",
      "+---------+---------+\n",
      "|      72 |      73 |\n",
      "+---------+---------+\n",
      "|      73 |       0 |\n",
      "+---------+---------+\n",
      "|      74 |      75 |\n",
      "+---------+---------+\n",
      "|      75 |       0 |\n",
      "+---------+---------+\n",
      "|      76 |      77 |\n",
      "+---------+---------+\n",
      "|      77 |       0 |\n",
      "+---------+---------+\n",
      "|      78 |      79 |\n",
      "+---------+---------+\n",
      "|      79 |       0 |\n",
      "+---------+---------+\n",
      "|      80 |      81 |\n",
      "+---------+---------+\n",
      "|      81 |       0 |\n",
      "+---------+---------+\n",
      "|      82 |      83 |\n",
      "+---------+---------+\n",
      "|      83 |       0 |\n",
      "+---------+---------+\n",
      "|      84 |      85 |\n",
      "+---------+---------+\n",
      "|      85 |       0 |\n",
      "+---------+---------+\n",
      "|      86 |      87 |\n",
      "+---------+---------+\n",
      "|      87 |       0 |\n",
      "+---------+---------+\n",
      "|      88 |      89 |\n",
      "+---------+---------+\n",
      "|      89 |       0 |\n",
      "+---------+---------+\n",
      "|      90 |      91 |\n",
      "+---------+---------+\n",
      "|      91 |       0 |\n",
      "+---------+---------+\n",
      "|      92 |      93 |\n",
      "+---------+---------+\n",
      "|      93 |       0 |\n",
      "+---------+---------+\n",
      "|      94 |      95 |\n",
      "+---------+---------+\n",
      "|      95 |       0 |\n",
      "+---------+---------+\n",
      "|      96 |      97 |\n",
      "+---------+---------+\n",
      "|      97 |       0 |\n",
      "+---------+---------+\n",
      "|      98 |      99 |\n",
      "+---------+---------+\n",
      "|      99 |       0 |\n",
      "+---------+---------+\n"
     ]
    }
   ],
   "source": [
    "import numpy as np\n",
    "from tabulate import tabulate\n",
    "\n",
    "numbers = np.arange(1,101)\n",
    "for i in range(len(numbers)):\n",
    "    if numbers[i] % 2 == 0:\n",
    "        numbers[i] = 0\n",
    "\n",
    "headers = [\"Index\", \"Value\"]\n",
    "data = [[i, value] for i, value in enumerate(numbers)]\n",
    "table = tabulate(data, headers, tablefmt=\"grid\")\n",
    "\n",
    "print(table)"
   ]
  },
  {
   "cell_type": "markdown",
   "id": "7b81b040",
   "metadata": {},
   "source": [
    "## Question 5"
   ]
  },
  {
   "cell_type": "markdown",
   "id": "1efc5059",
   "metadata": {},
   "source": [
    "Create a function that will print out a conversation between two people. Your function should accept two inputs: 1. The name of person A, and the name of Person B. Write your function so that if the name of Person A is less than 5 characters, Person B will reply with the line: “Wow, your name is so short!” (print the message to the console).<br>\n",
    "Example:<br>\n",
    "Person A: “Hi my name is ____”<br>\n",
    "Person B: “Hello, person A name, my name is ____” Person B: “Wow, your name is so short!”"
   ]
  },
  {
   "cell_type": "code",
   "execution_count": 24,
   "id": "e0aa8913",
   "metadata": {},
   "outputs": [
    {
     "name": "stdout",
     "output_type": "stream",
     "text": [
      "Judy\n",
      "Louis\n",
      "Hi my name is Judy.\n",
      "Hello, Judy, my name is Louis.\n",
      "Wow, your name is so short!\n"
     ]
    }
   ],
   "source": [
    "person_a_name = input()\n",
    "person_b_name = input()\n",
    "if len(person_a_name) < 5: \n",
    "    print(f\"Hi my name is {person_a_name}.\")\n",
    "    print(f\"Hello, {person_a_name}, my name is {person_b_name}.\")\n",
    "    print(f\"Wow, your name is so short!\")\n",
    "if len(person_a_name) > 5: \n",
    "    print(f\"Hi my name is {person_a_name}.\")\n",
    "    print(f\"Hello, {person_a_name}, my name is {person_b_name}.\")"
   ]
  },
  {
   "cell_type": "markdown",
   "id": "ae16de9c",
   "metadata": {},
   "source": [
    "## Question 6"
   ]
  },
  {
   "cell_type": "markdown",
   "id": "d7432c6d",
   "metadata": {},
   "source": [
    "Create two arrays that each have a random range of numbers from 1 to 50. Conduct the following arithmetic functions across the two arrays and print out the results:<br>\n",
    "Multiplication<br> Division<br> Addition<br> Subtraction<br> Modulo Operator"
   ]
  },
  {
   "cell_type": "code",
   "execution_count": 31,
   "id": "753887be",
   "metadata": {},
   "outputs": [
    {
     "name": "stdout",
     "output_type": "stream",
     "text": [
      "[35 16 15 24 43  7 33  5 19  8 39 25  7 50 33 19 42 16 29  9]\n",
      "[0.8        0.125      1.66666667 1.66666667 0.44186047 7.\n",
      " 0.48484848 6.         2.63157895 2.875      0.64102564 0.2\n",
      " 5.28571429 0.9        1.09090909 2.52631579 0.26190476 2.6875\n",
      " 1.48275862 0.66666667]\n",
      "[63 18 40 64 62 56 49 35 69 31 64 30 44 95 69 67 53 59 72 15]\n",
      "[ -7 -14  10  16 -24  42 -17  25  31  15 -14 -20  30  -5   3  29 -31  27\n",
      "  14  -3]\n",
      "[28  2 10 16 19  0 16  0 12  7 25  5  2 45  3 10 11 11 14  6]\n"
     ]
    }
   ],
   "source": [
    "import numpy as np\n",
    "\n",
    "first = np.random.randint(1, 51, size=20)\n",
    "second = np.random.randint(1, 51, size=20)\n",
    "\n",
    "multiplication = first * second \n",
    "print(second)\n",
    "\n",
    "division = first / second \n",
    "print(division)\n",
    "\n",
    "addition = first + second \n",
    "print(addition)\n",
    "\n",
    "subtraction = first - second\n",
    "print(subtraction)\n",
    "\n",
    "modulo_operator = first % second\n",
    "print(modulo_operator)"
   ]
  },
  {
   "cell_type": "markdown",
   "id": "806bda45",
   "metadata": {},
   "source": [
    "## Question 7"
   ]
  },
  {
   "cell_type": "markdown",
   "id": "2e8d2933",
   "metadata": {},
   "source": [
    "Create a dictionary that has key, value pairs for different types of foods. Create a similar function to Question 5’s function that prints out the value of a key based on input from a user.<br> \n",
    "Example:<br> \n",
    "“Please type your favorite food: “<br> \n",
    "User types: Pizza<br> \n",
    "Code response: “Ah, Pizza, we have pepperoni.” Where pepperoni is the value of the key."
   ]
  },
  {
   "cell_type": "code",
   "execution_count": 33,
   "id": "a07429fe",
   "metadata": {},
   "outputs": [
    {
     "name": "stdout",
     "output_type": "stream",
     "text": [
      "Please type your favorite food:\n",
      "salad\n",
      "Sorry, we don't have salad.\n"
     ]
    }
   ],
   "source": [
    "print(\"Please type your favorite food:\")\n",
    "\n",
    "favorite_food = input()\n",
    "food = {\n",
    "    \"fruit\": \"strawberries\",\n",
    "    \"pizza\": \"cheese\",\n",
    "    \"pasta\": \"alfredo\",\n",
    "    \"ice cream\": \"vanilla\",\n",
    "    \"cake\": \"lemon\",\n",
    "    \"cookie\": \"snickerdoodle\",\n",
    "    \"soda\": \"sprite\",\n",
    "    \"pie\": \"apple\",\n",
    "    \"chicken\": \"lemon pepper\"\n",
    "}\n",
    "\n",
    "if favorite_food in food:\n",
    "    print(f\"Ah, {favorite_food}, we have {food[favorite_food]}.\")\n",
    "else:\n",
    "    print(f\"Sorry, we don't have {favorite_food}.\")"
   ]
  },
  {
   "cell_type": "markdown",
   "id": "92a30e71",
   "metadata": {},
   "source": [
    "## Question 8"
   ]
  },
  {
   "cell_type": "markdown",
   "id": "bff140c2",
   "metadata": {},
   "source": [
    "Create a while loop that will continuously print a message until a specified value is reached."
   ]
  },
  {
   "cell_type": "code",
   "execution_count": 18,
   "id": "32a2235b",
   "metadata": {},
   "outputs": [
    {
     "name": "stdout",
     "output_type": "stream",
     "text": [
      "5\n",
      "10\n",
      "15\n",
      "20\n",
      "25\n",
      "30\n",
      "35\n",
      "40\n",
      "45\n"
     ]
    }
   ],
   "source": [
    "value = 5 \n",
    "while value < 50: \n",
    "    print(value)\n",
    "    value += 5"
   ]
  },
  {
   "cell_type": "markdown",
   "id": "d039a663",
   "metadata": {},
   "source": [
    "## Question 8b"
   ]
  },
  {
   "cell_type": "markdown",
   "id": "40ec2466",
   "metadata": {},
   "source": [
    "Create a while loop that runs a calculation on an array of numbers until the last value within the array has been run."
   ]
  },
  {
   "cell_type": "code",
   "execution_count": 19,
   "id": "d5bdf281",
   "metadata": {},
   "outputs": [
    {
     "name": "stdout",
     "output_type": "stream",
     "text": [
      "2\n",
      "4\n",
      "6\n",
      "8\n",
      "10\n",
      "12\n",
      "14\n",
      "16\n",
      "18\n",
      "20\n",
      "22\n",
      "24\n",
      "26\n",
      "28\n",
      "30\n",
      "32\n",
      "34\n",
      "36\n",
      "38\n",
      "40\n",
      "42\n",
      "44\n"
     ]
    }
   ],
   "source": [
    "import numpy as np \n",
    "\n",
    "index = 0\n",
    "array = np.arange(1,23)\n",
    "\n",
    "while index < len(array): \n",
    "    result = array[index]*2\n",
    "    print(result)\n",
    "    index += 1"
   ]
  },
  {
   "cell_type": "markdown",
   "id": "e944f048",
   "metadata": {},
   "source": [
    "## Question 9"
   ]
  },
  {
   "cell_type": "markdown",
   "id": "c9cea6ba",
   "metadata": {},
   "source": [
    "Please explain the difference between a list, an array, and a dictionary and when you would use each one. (Type your answer as a comment or within a text cell)."
   ]
  },
  {
   "cell_type": "markdown",
   "id": "841f57cb",
   "metadata": {},
   "source": [
    "Lists can store different data types but arrays only have elements from the same data type. Lists cannot have arithmetic operations applied to them, but arrays can. Arrays also need the importation of modules to perform functions on them, unlike lists. You would use a list when you need to store data and want flexibility in manipulating the elements—a to-list would be a perfect example. You can perform direct operations like append() to add tasks as well as remove() to remove tasks without having to import anything extra. Arrays are more handy for data-heavy operations. A dictionary in Python uses keys to look up values. Information is stored in pairs where each pair has a word/key and its meaning/value. These can be used when you need to quickly look up data by using specific labels or keys. "
   ]
  },
  {
   "cell_type": "markdown",
   "id": "10fdd24f",
   "metadata": {},
   "source": [
    "## Question 10"
   ]
  },
  {
   "cell_type": "markdown",
   "id": "2e47fbc4",
   "metadata": {},
   "source": [
    "Please explain the difference between logical operators and comparison operators and describe one use case for when they would be used (do not use the description from the lecture/lab materials - think through it):<br> \n",
    "If <br>Elif <br>Else<br> <br> \n",
    "==<br>\n",
    "!=<br>\n",
    "& (and)<br>\n",
    "| (or)"
   ]
  },
  {
   "cell_type": "markdown",
   "id": "077f1853",
   "metadata": {},
   "source": [
    "Logical operators help you decide if certain statements are true or not. They can be used to verify whether several conditions are true, combine conditions, and more. “If” statements are used to run a code only if certain conditions are met. If the conditions are not met, then the code is not executed. \"Else\" statements come after if statements to state what happens if the if statement is false. \"Elif\" is short for \"else if\" and is used to check additional conditions. If the initial if statement is false but the elif statement below it is true, the elif statement will be executed. It works similarly to else statements as a failsafe to if statements. A simple way you can use this is to check if a value is greater than or equal to a number. If your number is 23 and you have the statement “if x > 23: print(\"x is greater than 23”)” it will not print. However, if this is followed by “elif x == 23: print(\"x is equal to 23”)” the code will execute and print that x is equal to 23 even though the first if statement was false.<br>\n",
    "<br>\n",
    "Comparison operators simply compare two values. They take two values or expressions to draw upon these comparisons and return either true or false as the output. You might use ‘==‘ when trying to determine if two expressions are equal. Similarly, you can use ‘!=‘ to see if two values do not equal each other. For instance, this can coincide with a conditional statement to see if “x != y” then you can print a different statement to execute a code when two values are not equal. Both &(and) and |(or) are used to combine conditional statements, however, they vary slightly. For instance, you can say “if a > b and c > a: print(\"Both conditions are true”)” but you can also say, “if a > b or c > a: print(\"Both conditions are true”).”"
   ]
  }
 ],
 "metadata": {
  "kernelspec": {
   "display_name": "Python 3 (ipykernel)",
   "language": "python",
   "name": "python3"
  },
  "language_info": {
   "codemirror_mode": {
    "name": "ipython",
    "version": 3
   },
   "file_extension": ".py",
   "mimetype": "text/x-python",
   "name": "python",
   "nbconvert_exporter": "python",
   "pygments_lexer": "ipython3",
   "version": "3.11.4"
  }
 },
 "nbformat": 4,
 "nbformat_minor": 5
}
