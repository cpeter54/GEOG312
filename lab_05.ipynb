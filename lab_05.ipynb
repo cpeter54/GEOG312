{
 "cells": [
  {
   "cell_type": "markdown",
   "metadata": {},
   "source": [
    "[![image](https://colab.research.google.com/assets/colab-badge.svg)](https://colab.research.google.com/github/giswqs/geog-312/blob/master/labs/lab_05.ipynb)\n",
    "[![image](https://binder.pangeo.io/badge_logo.svg)](https://gishub.org/geog312-pangeo)\n",
    "\n",
    "**Caroline Petersen**"
   ]
  },
  {
   "cell_type": "code",
   "execution_count": null,
   "metadata": {},
   "outputs": [],
   "source": [
    "from datetime import datetime\n",
    "\n",
    "now = datetime.now()\n",
    "print(f\"Submitted time: {now}\")"
   ]
  },
  {
   "cell_type": "markdown",
   "metadata": {},
   "source": [
    "## Question 1\n",
    "**Person:** Use a dictionary to store information about a person you know. Store their first name, last name, age, and the city in which they live. You should have keys such as first_name, last_name, age, and city. Print each piece of information stored in your dictionary."
   ]
  },
  {
   "cell_type": "code",
   "execution_count": 3,
   "metadata": {},
   "outputs": [
    {
     "name": "stdout",
     "output_type": "stream",
     "text": [
      "Olivette\n",
      "Petersen\n",
      "25\n",
      "San Jose\n"
     ]
    }
   ],
   "source": [
    "olivette = {'first_name': 'Olivette',\n",
    "            'last_name': 'Petersen',\n",
    "            'age': '25',\n",
    "            'city': 'San Jose'\n",
    "           }\n",
    "print(olivette['first_name'])\n",
    "print(olivette['last_name'])\n",
    "print(olivette['age'])\n",
    "print(olivette['city'])"
   ]
  },
  {
   "cell_type": "markdown",
   "metadata": {},
   "source": [
    "## Question 2\n",
    "**Favorite Numbers:** Use a dictionary to store people’s favorite numbers. Think of five names, and use them as keys in your dictionary. Think of a favorite number for each person, and store each as a value in your dictionary. Print each person’s name and their favorite number. For even more fun, poll a few friends and get some actual data for your program."
   ]
  },
  {
   "cell_type": "code",
   "execution_count": 61,
   "metadata": {},
   "outputs": [
    {
     "name": "stdout",
     "output_type": "stream",
     "text": [
      "Caleb's favorite number is four.\n",
      "Em's favorite number is seven.\n",
      "Gracia's favorite number is two.\n",
      "Anjaney's favorite number is thirty.\n",
      "Ziad's favorite number is thirteen.\n"
     ]
    }
   ],
   "source": [
    "favorite_numbers = {'Caleb': 'four',\n",
    "                    'Em': 'seven',\n",
    "                    'Gracia': 'two',\n",
    "                    'Anjaney': 'thirty',\n",
    "                    'Ziad': 'thirteen'\n",
    "}\n",
    "\n",
    "for person, number in favorite_numbers.items():\n",
    "    print(f\"{person}'s favorite number is {number}.\")"
   ]
  },
  {
   "cell_type": "markdown",
   "metadata": {},
   "source": [
    "## Question 3\n",
    "**Glossary:** A Python dictionary can be used to model an actual dictionary. However, to avoid confusion, let’s call it a glossary.\n",
    "\n",
    "* Think of five programming words you’ve learned about in the previous chapters. Use these words as the keys in your glossary, and store their meanings as values.\n",
    "* Print each word and its meaning as neatly formatted output. You might print the word followed by a colon and then its meaning, or print the word on one line and then print its meaning indented on a second line. Use the newline character (\\n) to insert a blank line between each word-meaning pair in your output."
   ]
  },
  {
   "cell_type": "code",
   "execution_count": 5,
   "metadata": {},
   "outputs": [
    {
     "name": "stdout",
     "output_type": "stream",
     "text": [
      "\n",
      "Boolean: data stored as true or false\n",
      "\n",
      "Elif: else if, used to check multiple conditions\n",
      "\n",
      "Tuple: fixed list in parenthesis\n",
      "\n",
      "String: series of characters inside quotations\n",
      "\n",
      "Loop: iterates over a sequence and executes the code for each element\n"
     ]
    }
   ],
   "source": [
    "glossary = {'Boolean': 'data stored as true or false',\n",
    "            'Elif': 'else if, used to check multiple conditions',\n",
    "            'Tuple': 'fixed list in parenthesis',\n",
    "            'String': 'series of characters inside quotations',\n",
    "            'Loop': 'iterates over a sequence and executes the code for each element'  \n",
    "}\n",
    "\n",
    "word = 'Boolean'\n",
    "print(f\"\\n{word.title()}: {glossary[word]}\")\n",
    "\n",
    "word = 'Elif'\n",
    "print(f\"\\n{word.title()}: {glossary[word]}\")\n",
    "\n",
    "word = 'Tuple'\n",
    "print(f\"\\n{word.title()}: {glossary[word]}\")\n",
    "\n",
    "word = 'String'\n",
    "print(f\"\\n{word.title()}: {glossary[word]}\")\n",
    "\n",
    "word = 'Loop'\n",
    "print(f\"\\n{word.title()}: {glossary[word]}\")"
   ]
  },
  {
   "cell_type": "markdown",
   "metadata": {},
   "source": [
    "## Question 4\n",
    "**Glossary 2:** Now that you know how to loop through a dictionary, clean up the code from Question 3 by replacing your series of print() calls with a loop that runs through the dictionary’s keys and values. When you’re sure that your loop works, add five more Python terms to your glossary. When you run your program again, these new words and meanings should automatically be included in the output."
   ]
  },
  {
   "cell_type": "code",
   "execution_count": 6,
   "metadata": {},
   "outputs": [
    {
     "name": "stdout",
     "output_type": "stream",
     "text": [
      "Boolean:\n",
      "data stored as true or false\n",
      "\n",
      "Elif:\n",
      "else if, used to check multiple conditions\n",
      "\n",
      "Tuple:\n",
      "fixed list in parenthesis\n",
      "\n",
      "String:\n",
      "series of characters inside quotations\n",
      "\n",
      "Loop:\n",
      "iterates over a sequence and executes the code for each element\n",
      "\n",
      "Float:\n",
      "numbers with decimal points\n",
      "\n",
      "Int:\n",
      "whole numbers without decimal points\n",
      "\n",
      "Dictionary:\n",
      "collection of key-valye pairs\n",
      "\n",
      "Comment:\n",
      "adds explanations or notes within code but is not executed in the program\n",
      "\n",
      "List:\n",
      "colelction of ordered and changeable elements\n",
      "\n"
     ]
    }
   ],
   "source": [
    "glossary = {'Boolean': 'data stored as true or false',\n",
    "            'Elif': 'else if, used to check multiple conditions',\n",
    "            'Tuple': 'fixed list in parenthesis',\n",
    "            'String': 'series of characters inside quotations',\n",
    "            'Loop': 'iterates over a sequence and executes the code for each element',\n",
    "            'Float': 'numbers with decimal points',\n",
    "            'Int': 'whole numbers without decimal points',\n",
    "            'Dictionary': 'collection of key-valye pairs',\n",
    "            'Comment': 'adds explanations or notes within code but is not executed in the program',\n",
    "            'List': 'colelction of ordered and changeable elements'\n",
    "}\n",
    "\n",
    "for word, meaning in glossary.items():\n",
    "    print(f\"{word}:\\n{meaning}\\n\")"
   ]
  },
  {
   "cell_type": "markdown",
   "metadata": {},
   "source": [
    "## Question 5\n",
    "**Rivers:** Make a dictionary containing three major rivers and the country each river runs through. One key-value pair might be 'nile': 'egypt'.\n",
    "\n",
    "* Use a loop to print a sentence about each river, such as *The Nile runs through Egypt.*\n",
    "* Use a loop to print the name of each river included in the dictionary.\n",
    "* Use a loop to print the name of each country included in the dictionary."
   ]
  },
  {
   "cell_type": "code",
   "execution_count": 7,
   "metadata": {},
   "outputs": [
    {
     "name": "stdout",
     "output_type": "stream",
     "text": [
      "The Amazon flows through Peru.\n",
      "The Yangtze flows through China.\n",
      "The Ganges flows through India.\n",
      "\n",
      "Rivers:\n",
      "Amazon\n",
      "Yangtze\n",
      "Ganges\n",
      "\n",
      "Countries:\n",
      "Peru\n",
      "China\n",
      "India\n"
     ]
    }
   ],
   "source": [
    "rivers = {'Amazon': 'Peru',\n",
    "          'Yangtze': 'China', \n",
    "          'Ganges': 'India'\n",
    "}\n",
    "for river, country in rivers.items():\n",
    "    print(f\"The {river.title()} flows through {country.title()}.\")\n",
    "\n",
    "print(\"\\nRivers:\")\n",
    "for river in rivers.keys():\n",
    "    print(river)\n",
    "    \n",
    "print(\"\\nCountries:\")\n",
    "for country in rivers.values():\n",
    "    print(country)"
   ]
  },
  {
   "cell_type": "markdown",
   "metadata": {},
   "source": [
    "## Question 6\n",
    "**Polling:** Based on the dictionary below (i.e., favorite_languages):\n",
    "\n",
    "* Make a list of people who should take the favorite languages poll. Include some names that are already in the dictionary and some that are not.\n",
    "* Loop through the list of people who should take the poll. If they have already taken the poll, print a message thanking them for responding. If they have not yet taken the poll, print a message inviting them to take the poll."
   ]
  },
  {
   "cell_type": "code",
   "execution_count": 8,
   "metadata": {},
   "outputs": [
    {
     "name": "stdout",
     "output_type": "stream",
     "text": [
      "Tom, you should take this poll to determine your favorite coding language!\n",
      "Thank you, Jen, for taking the poll!\n",
      "Thank you, Sarah, for taking the poll!\n",
      "Sue, you should take this poll to determine your favorite coding language!\n",
      "Jordan, you should take this poll to determine your favorite coding language!\n"
     ]
    }
   ],
   "source": [
    "favorite_languages = {\n",
    "    'jen': 'python',\n",
    "    'sarah': 'c',\n",
    "    'edward': 'ruby',\n",
    "    'phil': 'python',\n",
    "    }\n",
    "\n",
    "people = ['tom', 'jen', 'sarah', 'sue', 'jordan']\n",
    "\n",
    "for people in people: \n",
    "    if people in favorite_languages: \n",
    "        print(f\"Thank you, {people.title()}, for taking the poll!\")\n",
    "    else: \n",
    "        print(f\"{people.title()}, you should take this poll to determine your favorite coding language!\")"
   ]
  },
  {
   "cell_type": "markdown",
   "metadata": {},
   "source": []
  },
  {
   "cell_type": "markdown",
   "metadata": {},
   "source": [
    "## Question 7\n",
    "**People:** Start with the program you wrote for Question 1. Make two new dictionaries representing different people, and store all three dictionaries in a list called `people`. Loop through your list of people. As you loop through the list, print everything you know about each person."
   ]
  },
  {
   "cell_type": "code",
   "execution_count": 9,
   "metadata": {},
   "outputs": [
    {
     "name": "stdout",
     "output_type": "stream",
     "text": [
      "\n",
      "Person Information:\n",
      "First Name: Olivette\n",
      "Last Name: Petersen\n",
      "Age: 25\n",
      "City: San Jose\n",
      "\n",
      "Person Information:\n",
      "First Name: Jimmy\n",
      "Last Name: Wilkin\n",
      "Age: 35\n",
      "City: Gulfport\n",
      "\n",
      "Person Information:\n",
      "First Name: Laura\n",
      "Last Name: Roland\n",
      "Age: 54\n",
      "City: Murfreesboro\n"
     ]
    }
   ],
   "source": [
    "olivette = {'first_name': 'Olivette',\n",
    "            'last_name': 'Petersen',\n",
    "            'age': '25',\n",
    "            'city': 'San Jose'\n",
    "           }\n",
    "\n",
    "jimmy = {'first_name': 'Jimmy',\n",
    "         'last_name': 'Wilkin',\n",
    "         'age': '35',\n",
    "         'city': 'Gulfport'\n",
    "    \n",
    "}\n",
    "\n",
    "laura = {'first_name': 'Laura',\n",
    "         'last_name': 'Roland',\n",
    "         'age': '54',\n",
    "         'city': 'Murfreesboro'\n",
    "}\n",
    "\n",
    "people = [olivette, jimmy, laura]\n",
    "\n",
    "for person in people:\n",
    "    print(\"\\nPerson Information:\")\n",
    "    print(f\"First Name: {person['first_name']}\")\n",
    "    print(f\"Last Name: {person['last_name']}\")\n",
    "    print(f\"Age: {person['age']}\")\n",
    "    print(f\"City: {person['city']}\")"
   ]
  },
  {
   "cell_type": "markdown",
   "metadata": {},
   "source": [
    "## Question 8\n",
    "**Pets:** Make several dictionaries, where each dictionary represents a different pet. In each dictionary, include the kind of animal and the owner’s name. Store these dictionaries in a list called `pets`. Next, loop through your list and as you do, print everything you know about each pet."
   ]
  },
  {
   "cell_type": "code",
   "execution_count": 19,
   "metadata": {},
   "outputs": [
    {
     "name": "stdout",
     "output_type": "stream",
     "text": [
      "\n",
      "Pet Information:\n",
      "Type of Animal: rabbit\n",
      "Pet's Name: Mochi\n",
      "Owner's Name: Tom\n",
      "Pet's Age: 3\n",
      "\n",
      "Pet Information:\n",
      "Type of Animal: cat\n",
      "Pet's Name: Jojo\n",
      "Owner's Name: Sarah\n",
      "Pet's Age: 13\n",
      "\n",
      "Pet Information:\n",
      "Type of Animal: guinea pig\n",
      "Pet's Name: Bella\n",
      "Owner's Name: Olivette\n",
      "Pet's Age: 1\n"
     ]
    }
   ],
   "source": [
    "pet1 = {'type': 'rabbit',\n",
    "        'owner': 'tom',\n",
    "        'name': 'mochi',\n",
    "        'age': '3'\n",
    "}\n",
    "\n",
    "pet2 = {'type': 'cat',\n",
    "        'owner': 'sarah',\n",
    "        'name': 'jojo',\n",
    "        'age': '13'\n",
    "}\n",
    "\n",
    "pet3 = {'type': 'guinea pig',\n",
    "        'owner': 'olivette',\n",
    "        'name': 'bella',\n",
    "        'age': '1'\n",
    "}\n",
    "\n",
    "pets = [pet1, pet2, pet3]\n",
    "\n",
    "for pet in pets:\n",
    "    print(\"\\nPet Information:\")\n",
    "    print(f\"Type of Animal: {pet['type']}\")\n",
    "    print(f\"Pet's Name: {pet['name'].title()}\")\n",
    "    print(f\"Owner's Name: {pet['owner'].title()}\")\n",
    "    print(f\"Pet's Age: {pet['age']}\")"
   ]
  },
  {
   "cell_type": "markdown",
   "metadata": {},
   "source": [
    "## Question 9\n",
    "**Favorite Places:** Make a dictionary called `favorite_places`. Think of three names to use as keys in the dictionary, and store one to three favorite places for each person. To make this exercise a bit more interesting, ask some friends to name a few of their favorite places. Loop through the dictionary, and print each person’s name and their favorite places."
   ]
  },
  {
   "cell_type": "code",
   "execution_count": 22,
   "metadata": {},
   "outputs": [
    {
     "name": "stdout",
     "output_type": "stream",
     "text": [
      "\n",
      "Kelly likes the following places:\n",
      "Zeanah\n",
      "Hey Bear Cafe\n",
      "\n",
      "Ahmad likes the following places:\n",
      "The Smoky Mountains\n",
      "Clingmans Dome\n",
      "\n",
      "Rethika likes the following places:\n",
      "The Library\n",
      "K Brew\n",
      "Zeanah\n"
     ]
    }
   ],
   "source": [
    "favorite_places = {'Kelly': ['Zeanah', 'Hey Bear Cafe'],\n",
    "                   'Ahmad': ['The Smoky Mountains', 'Clingmans Dome'],\n",
    "                   'Rethika': ['The Library', 'K Brew', 'Zeanah']\n",
    "}\n",
    "\n",
    "for name, places in favorite_places.items():\n",
    "    print(f\"\\n{name.title()} likes the following places:\")\n",
    "    for place in places:\n",
    "        print(f\"{place.title()}\")"
   ]
  },
  {
   "cell_type": "markdown",
   "metadata": {},
   "source": [
    "## Question 10\n",
    "**Favorite Numbers:** Modify your program from Question 2 so each person can have more than one favorite number. Then print each person’s name along with their favorite numbers."
   ]
  },
  {
   "cell_type": "code",
   "execution_count": 27,
   "metadata": {},
   "outputs": [
    {
     "name": "stdout",
     "output_type": "stream",
     "text": [
      "\n",
      "Kelly likes the following numbers:\n",
      "17\n",
      "3\n",
      "\n",
      "Ahmad likes the following numbers:\n",
      "12\n",
      "24\n",
      "36\n",
      "\n",
      "Rethika likes the following numbers:\n",
      "4\n",
      "7\n"
     ]
    }
   ],
   "source": [
    "favorite_numbers = {'Kelly': [17, 3],\n",
    "                   'Ahmad': [12, 24, 36],\n",
    "                   'Rethika': [4, 7]\n",
    "}\n",
    "\n",
    "for name, numbers in favorite_numbers.items():\n",
    "    print(f\"\\n{name.title()} likes the following numbers:\")\n",
    "    for number in numbers:\n",
    "        print(f\"{number}\")"
   ]
  },
  {
   "cell_type": "markdown",
   "metadata": {},
   "source": [
    "## Question 11\n",
    "**Cities:** Make a dictionary called `cities`. Use the names of three cities as keys in your dictionary. Create a dictionary of information about each city and include the country that the city is in, its approximate population, and one fact about that city. The keys for each city’s dictionary should be something like `country`, `population`, and `fact`. Print the name of each city and all of the information you have stored about it."
   ]
  },
  {
   "cell_type": "code",
   "execution_count": 31,
   "metadata": {},
   "outputs": [
    {
     "name": "stdout",
     "output_type": "stream",
     "text": [
      "\n",
      "City: Knoxville\n",
      "Country: United States\n",
      "Population: 192,648\n",
      "Famous Attraction: World's Fair Park\n",
      "\n",
      "City: London\n",
      "Country: United Kingdom\n",
      "Population: 8.982 million\n",
      "Famous Attraction: Tower of London\n",
      "\n",
      "City: Brisbane\n",
      "Country: Australia\n",
      "Population: 2.28 million \n",
      "Famous Attraction: Lone Pine Koala Sanctuary\n"
     ]
    }
   ],
   "source": [
    "cities = {\n",
    "    'Knoxville': {'Country': 'United States',\n",
    "                  'Population': '192,648',\n",
    "                  'Famous Attraction': \"World's Fair Park\"\n",
    "        \n",
    "    },\n",
    "    'London': {'Country': 'United Kingdom',\n",
    "               'Population': '8.982 million',\n",
    "               'Famous Attraction': 'Tower of London',\n",
    "        \n",
    "    },\n",
    "    'Brisbane': {'Country': 'Australia',\n",
    "                 'Population': '2.28 million ',\n",
    "                 'Famous Attraction': 'Lone Pine Koala Sanctuary',\n",
    "        \n",
    "    }\n",
    "}\n",
    "\n",
    "for city, info in cities.items():\n",
    "    print(f\"\\nCity: {city}\")\n",
    "    print(f\"Country: {info['Country']}\")\n",
    "    print(f\"Population: {info['Population']}\")\n",
    "    print(f\"Famous Attraction: {info['Famous Attraction']}\")"
   ]
  },
  {
   "cell_type": "markdown",
   "metadata": {},
   "source": [
    "## Question 12\n",
    "**Extensions:** We’re now working with examples that are complex enough that they can be extended in any number of ways. Use one of the example programs from this chapter, and extend it by adding new keys and values, changing the context of the program or improving the formatting of the output."
   ]
  },
  {
   "cell_type": "code",
   "execution_count": 33,
   "metadata": {},
   "outputs": [
    {
     "name": "stdout",
     "output_type": "stream",
     "text": [
      "\n",
      "City: Knoxville\n",
      "Country: United States\n",
      "Population: 192,648\n",
      "Famous Attraction: World's Fair Park\n",
      "Founded Year: 1786\n",
      "Official Language: English\n",
      "\n",
      "City: London\n",
      "Country: United Kingdom\n",
      "Population: 8.982 million\n",
      "Famous Attraction: Tower of London\n",
      "Founded Year: 43 AD\n",
      "Official Language: English\n",
      "\n",
      "City: Brisbane\n",
      "Country: Australia\n",
      "Population: 2.28 million\n",
      "Famous Attraction: Lone Pine Koala Sanctuary\n",
      "Founded Year: 1824\n",
      "Official Language: English\n"
     ]
    }
   ],
   "source": [
    "cities = {\n",
    "    'Knoxville': {\n",
    "        'Country': 'United States',\n",
    "        'Population': '192,648',\n",
    "        'Famous Attraction': \"World's Fair Park\",\n",
    "        'Founded Year': 1786,\n",
    "        'Official Language': 'English'\n",
    "    },\n",
    "    'London': {\n",
    "        'Country': 'United Kingdom',\n",
    "        'Population': '8.982 million',\n",
    "        'Famous Attraction': 'Tower of London',\n",
    "        'Founded Year': '43 AD',\n",
    "        'Official Language': 'English'\n",
    "    },\n",
    "    'Brisbane': {\n",
    "        'Country': 'Australia',\n",
    "        'Population': '2.28 million',\n",
    "        'Famous Attraction': 'Lone Pine Koala Sanctuary',\n",
    "        'Founded Year': 1824,\n",
    "        'Official Language': 'English'\n",
    "    }\n",
    "}\n",
    "\n",
    "for city, info in cities.items():\n",
    "    print(f\"\\nCity: {city}\")\n",
    "    print(f\"Country: {info['Country']}\")\n",
    "    print(f\"Population: {info['Population']}\")\n",
    "    print(f\"Famous Attraction: {info['Famous Attraction']}\")\n",
    "    print(f\"Founded Year: {info['Founded Year']}\")\n",
    "    print(f\"Official Language: {info['Official Language']}\")\n"
   ]
  },
  {
   "cell_type": "markdown",
   "metadata": {},
   "source": [
    "## Question 13\n",
    "**Rental Car:** Write a program that asks the user what kind of rental car they would like. Print a message about that car, such as “Let me see if I can find you a Subaru.”"
   ]
  },
  {
   "cell_type": "code",
   "execution_count": 41,
   "metadata": {},
   "outputs": [
    {
     "name": "stdout",
     "output_type": "stream",
     "text": [
      "What kind of car are you interested in? Miata\n",
      "Let me see if I can find you a Miata.\n"
     ]
    }
   ],
   "source": [
    "car = input(\"What kind of car are you interested in? \")\n",
    "\n",
    "print(f\"Let me see if I can find you a {car.title()}.\")"
   ]
  },
  {
   "cell_type": "markdown",
   "metadata": {},
   "source": [
    "## Question 14\n",
    "**Restaurant Seating:** Write a program that asks the user how many people are in their dinner group. If the answer is more than eight, print a message saying they’ll have to wait for a table. Otherwise, report that their table is ready."
   ]
  },
  {
   "cell_type": "code",
   "execution_count": 39,
   "metadata": {},
   "outputs": [
    {
     "name": "stdout",
     "output_type": "stream",
     "text": [
      "How many people are in your dinner group? 5\n",
      "Your table is ready!\n"
     ]
    }
   ],
   "source": [
    "group = int(input(\"How many people are in your dinner group? \"))\n",
    "\n",
    "if group > 8:\n",
    "    print(\"I'm sorry, you'll have to wait for a table.\")\n",
    "else:\n",
    "    print(\"Your table is ready!\")"
   ]
  },
  {
   "cell_type": "markdown",
   "metadata": {},
   "source": [
    "## Question 15\n",
    "**Multiples of Ten:** Ask the user for a number, and then report whether the number is a multiple of 10 or not."
   ]
  },
  {
   "cell_type": "code",
   "execution_count": 38,
   "metadata": {},
   "outputs": [
    {
     "name": "stdout",
     "output_type": "stream",
     "text": [
      "What is your number? 70\n",
      "70 is a multiple of 10.\n"
     ]
    }
   ],
   "source": [
    "number = int(input(\"What is your number? \"))\n",
    "\n",
    "if number % 10 == 0:\n",
    "    print(f\"{number} is a multiple of 10.\")\n",
    "else:\n",
    "    print(f\"{number} is not a multiple of 10.\")"
   ]
  },
  {
   "cell_type": "markdown",
   "metadata": {},
   "source": [
    "## Question 16\n",
    "**Pizza Toppings:** Write a loop that prompts the user to enter a series of pizza toppings until they enter a 'quit' value. As they enter each topping, print a message saying you’ll add that topping to their pizza."
   ]
  },
  {
   "cell_type": "code",
   "execution_count": 45,
   "metadata": {},
   "outputs": [
    {
     "name": "stdout",
     "output_type": "stream",
     "text": [
      "What kind pizza topping would you like: cheese\n",
      "Your pizza with topping cheese is ready\n",
      "What kind pizza topping would you like: sausage\n",
      "Your pizza with topping sausage is ready\n",
      "What kind pizza topping would you like: quit\n"
     ]
    }
   ],
   "source": [
    "prompt=\"Please enter a pizza topping (enter 'quit' to finish) \"\n",
    "while True:\n",
    "    pizza = input(\"What kind pizza topping would you like: \")\n",
    "    if pizza == \"quit\":\n",
    "        break\n",
    "    print(f\"Your pizza with topping {pizza} is ready.\")"
   ]
  },
  {
   "cell_type": "markdown",
   "metadata": {},
   "source": [
    "## Question 17\n",
    "**Movie Tickets:** A movie theater charges different ticket prices depending on a person’s age. If a person is under the age of 3, the ticket is free; if they are between 3 and 12, the ticket is \\\\$10; and if they are over age 12, the ticket is $15. Write a loop in which you ask users their age, and then tell them the cost of their movie ticket."
   ]
  },
  {
   "cell_type": "code",
   "execution_count": 47,
   "metadata": {},
   "outputs": [
    {
     "name": "stdout",
     "output_type": "stream",
     "text": [
      "How old are you?  13\n",
      "Tikcet price $15 \n",
      "How old are you?  21\n",
      "Tikcet price $15 \n",
      "How old are you?  2\n",
      "Ticket is free\n",
      "How old are you?  0\n"
     ]
    }
   ],
   "source": [
    "while True:\n",
    "    age=int(input(\"How old are you?  \"))\n",
    "    if age == 0:\n",
    "        break\n",
    "    elif age < 3:\n",
    "        print(\"Ticket is free\")\n",
    "    elif age > 3 and age <= 12:\n",
    "        print(\"Ticket price $10 \")\n",
    "    else:\n",
    "        print(\"Tikcet price $15 \")"
   ]
  },
  {
   "cell_type": "markdown",
   "metadata": {},
   "source": [
    "## Question 18\n",
    "**Three Exits:** Write different versions of either Question 16 or Question 17 that do each of the following at least once:\n",
    "\n",
    "* Use a conditional test in the while statement to stop the loop.\n",
    "* Use an active variable to control how long the loop runs.\n",
    "* Use a break statement to exit the loop when the user enters a 'quit' value."
   ]
  },
  {
   "cell_type": "code",
   "execution_count": 48,
   "metadata": {},
   "outputs": [
    {
     "name": "stdout",
     "output_type": "stream",
     "text": [
      "Please enter a pizza topping (enter 'quit' to finish) cheese\n",
      "Your pizza with topping cheese is ready.\n",
      "Please enter a pizza topping (enter 'quit' to finish) quit\n"
     ]
    }
   ],
   "source": [
    "prompt = \"Please enter a pizza topping (enter 'quit' to finish) \"\n",
    "pizza = input(prompt)\n",
    "while pizza.lower() != 'quit':\n",
    "    print(f\"Your pizza with topping {pizza} is ready.\")\n",
    "    pizza = input(prompt)"
   ]
  },
  {
   "cell_type": "code",
   "execution_count": 49,
   "metadata": {},
   "outputs": [
    {
     "name": "stdout",
     "output_type": "stream",
     "text": [
      "Please enter a pizza topping (enter 'quit' to finish) cheese\n",
      "Your pizza with topping cheese is ready.\n",
      "Please enter a pizza topping (enter 'quit' to finish) pepperoni\n",
      "Your pizza with topping pepperoni is ready.\n",
      "Please enter a pizza topping (enter 'quit' to finish) quir\n",
      "Your pizza with topping quir is ready.\n",
      "Please enter a pizza topping (enter 'quit' to finish) quit\n"
     ]
    }
   ],
   "source": [
    "prompt = \"Please enter a pizza topping (enter 'quit' to finish) \"\n",
    "continue_adding = True\n",
    "while continue_adding:\n",
    "    pizza = input(prompt)\n",
    "    if pizza.lower() == 'quit':\n",
    "        continue_adding = False\n",
    "    else:\n",
    "        print(f\"Your pizza with topping {pizza} is ready.\")"
   ]
  },
  {
   "cell_type": "code",
   "execution_count": 50,
   "metadata": {},
   "outputs": [
    {
     "name": "stdout",
     "output_type": "stream",
     "text": [
      "Please enter a pizza topping (enter 'quit' to finish) cheese\n",
      "Your pizza with topping cheese is ready.\n",
      "Please enter a pizza topping (enter 'quit' to finish) sausage\n",
      "Your pizza with topping sausage is ready.\n",
      "Please enter a pizza topping (enter 'quit' to finish) quit\n"
     ]
    }
   ],
   "source": [
    "prompt = \"Please enter a pizza topping (enter 'quit' to finish) \"\n",
    "while True:\n",
    "    pizza = input(prompt)\n",
    "    if pizza.lower() == 'quit':\n",
    "        break\n",
    "    print(f\"Your pizza with topping {pizza} is ready.\")"
   ]
  },
  {
   "cell_type": "markdown",
   "metadata": {},
   "source": []
  },
  {
   "cell_type": "markdown",
   "metadata": {},
   "source": [
    "## Question 19\n",
    "**Deli:** Make a list called `sandwich_orders` and fill it with the names of various sandwiches. Then make an empty list called `finished_sandwiches`. Loop through the list of sandwich orders and print a message for each order, such as `I made your tuna sandwich`. As each sandwich is made, move it to the list of finished sandwiches. After all the sandwiches have been made, print a message listing each sandwich that was made."
   ]
  },
  {
   "cell_type": "code",
   "execution_count": 53,
   "metadata": {},
   "outputs": [
    {
     "name": "stdout",
     "output_type": "stream",
     "text": [
      "Cheesesteak order coming up!\n",
      "Reuben order coming up!\n",
      "Po Boy order coming up!\n",
      "Blt order coming up!\n",
      "Itallian order coming up!\n",
      "\n",
      "List of finished sandwiches:\n",
      "I made your cheesesteak sandwich.\n",
      "I made your reuben sandwich.\n",
      "I made your po boy sandwich.\n",
      "I made your blt sandwich.\n",
      "I made your itallian sandwich.\n"
     ]
    }
   ],
   "source": [
    "sandwich_orders = ['itallian', 'blt', 'po boy', 'reuben', 'cheesesteak']\n",
    "\n",
    "finished_sandwiches = []\n",
    "\n",
    "while sandwich_orders:\n",
    "    current_sandwich = sandwich_orders.pop()\n",
    "    print(f\"{current_sandwich.title()} order coming up!\")\n",
    "    finished_sandwiches.append(current_sandwich)\n",
    "\n",
    "print(\"\\nList of finished sandwiches:\")\n",
    "for sandwich in finished_sandwiches:\n",
    "    print(f\"I made your {sandwich} sandwich.\")"
   ]
  },
  {
   "cell_type": "markdown",
   "metadata": {},
   "source": [
    "## Question 20\n",
    "**No Pastrami:** Using the list `sandwich_orders` from Question 19, make sure the sandwich `pastrami` appears in the list at least three times. Add code near the beginning of your program to print a message saying the deli has run out of pastrami, and then use a `while` loop to remove all occurrences of `pastrami` from `sandwich_orders`. Make sure no pastrami sandwiches end up in `finished_sandwiches`."
   ]
  },
  {
   "cell_type": "code",
   "execution_count": 55,
   "metadata": {},
   "outputs": [
    {
     "name": "stdout",
     "output_type": "stream",
     "text": [
      "Sorry for the inconvenience, we no longer have pastrami.\n",
      "\n",
      "Cheesesteak order coming up!\n",
      "Reuben order coming up!\n",
      "Po Boy order coming up!\n",
      "Blt order coming up!\n",
      "Itallian order coming up!\n",
      "\n",
      "List of finished sandwiches:\n",
      "I made your cheesesteak sandwich.\n",
      "I made your reuben sandwich.\n",
      "I made your po boy sandwich.\n",
      "I made your blt sandwich.\n",
      "I made your itallian sandwich.\n"
     ]
    }
   ],
   "source": [
    "sandwich_orders = ['itallian', 'blt', 'po boy', 'reuben', 'cheesesteak']\n",
    "\n",
    "finished_sandwiches = []\n",
    "\n",
    "print(\"Sorry for the inconvenience, we no longer have pastrami.\\n\")\n",
    "while 'pastrami' in sandwich_orders:\n",
    "    sandwich_orders.remove('pastrami')\n",
    "    \n",
    "while sandwich_orders:\n",
    "    current_sandwich = sandwich_orders.pop()\n",
    "    print(f\"{current_sandwich.title()} order coming up!\")\n",
    "    finished_sandwiches.append(current_sandwich)\n",
    "\n",
    "print(\"\\nList of finished sandwiches:\")\n",
    "for sandwich in finished_sandwiches:\n",
    "    print(f\"I made your {sandwich} sandwich.\")"
   ]
  },
  {
   "cell_type": "markdown",
   "metadata": {},
   "source": [
    "## Question 21\n",
    "**Dream Vacation:** Write a program that polls users about their dream vacation. Write a prompt similar to *If you could visit one place in the world, where would you go?* Include a block of code that prints the results of the poll."
   ]
  },
  {
   "cell_type": "code",
   "execution_count": 60,
   "metadata": {},
   "outputs": [
    {
     "name": "stdout",
     "output_type": "stream",
     "text": [
      "If you could visit one place in the world, where would you go? (Enter 'quit' to finish): Hawaii\n",
      "If you could visit one place in the world, where would you go? (Enter 'quit' to finish): Bora Bora\n",
      "If you could visit one place in the world, where would you go? (Enter 'quit' to finish): quit\n",
      "\n",
      "Results of Poll:\n",
      "1. Hawaii\n",
      "2. Bora Bora\n"
     ]
    }
   ],
   "source": [
    "dream_vacations = []\n",
    "\n",
    "while True:\n",
    "    answer = input(\"If you could visit one place in the world, where would you go? (Enter 'quit' to finish): \")\n",
    "\n",
    "    if answer == 'quit':\n",
    "        break\n",
    "    else:\n",
    "        dream_vacations.append(answer)\n",
    "\n",
    "print(\"\\nResults of Poll:\")\n",
    "if dream_vacations:\n",
    "    for index, destination in enumerate(dream_vacations, start=1):\n",
    "        print(f\"{index}. {destination}\")\n",
    "else:\n",
    "    print(\"No responses recorded.\")"
   ]
  }
 ],
 "metadata": {
  "kernelspec": {
   "display_name": "Python 3 (ipykernel)",
   "language": "python",
   "name": "python3"
  },
  "language_info": {
   "codemirror_mode": {
    "name": "ipython",
    "version": 3
   },
   "file_extension": ".py",
   "mimetype": "text/x-python",
   "name": "python",
   "nbconvert_exporter": "python",
   "pygments_lexer": "ipython3",
   "version": "3.11.4"
  }
 },
 "nbformat": 4,
 "nbformat_minor": 2
}
