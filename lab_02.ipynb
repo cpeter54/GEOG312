{
 "cells": [
  {
   "cell_type": "markdown",
   "metadata": {},
   "source": [
    "[![image](https://colab.research.google.com/assets/colab-badge.svg)](https://colab.research.google.com/github/giswqs/geog-312/blob/master/labs/lab_02.ipynb)\n",
    "[![image](https://binder.pangeo.io/badge_logo.svg)](https://gishub.org/geog312-pangeo)"
   ]
  },
  {
   "cell_type": "markdown",
   "metadata": {},
   "source": [
    "Caroline Petersen"
   ]
  },
  {
   "cell_type": "code",
   "execution_count": 115,
   "metadata": {},
   "outputs": [
    {
     "name": "stdout",
     "output_type": "stream",
     "text": [
      "Submitted time: 2023-09-10 20:46:25.820543\n"
     ]
    }
   ],
   "source": [
    "from datetime import datetime\n",
    "\n",
    "now = datetime.now()\n",
    "print(f\"Submitted time: {now}\")"
   ]
  },
  {
   "cell_type": "markdown",
   "metadata": {},
   "source": [
    "## Question 1\n",
    "**Names:** Store the names of a few of your friends in a list called names. Print\n",
    "each person’s name by accessing each element in the list, one at a time."
   ]
  },
  {
   "cell_type": "code",
   "execution_count": 178,
   "metadata": {},
   "outputs": [
    {
     "name": "stdout",
     "output_type": "stream",
     "text": [
      "['Gracia', 'Ahmad', 'Anjaney', 'Rethika', 'Olivette']\n"
     ]
    }
   ],
   "source": [
    "names = ['Gracia', 'Ahmad', 'Anjaney', 'Rethika', 'Olivette']\n",
    "print(names)"
   ]
  },
  {
   "cell_type": "markdown",
   "metadata": {},
   "source": [
    "## Question 2\n",
    "**Greetings:** Start with the list you used in Question 1, but instead of just printing each person’s name, print a message to them. The text of each message should be the same, but each message should be personalized with the person’s name. "
   ]
  },
  {
   "cell_type": "code",
   "execution_count": 179,
   "metadata": {},
   "outputs": [
    {
     "name": "stdout",
     "output_type": "stream",
     "text": [
      "Good morning Gracia, do you want to get lunch today?\n",
      "Good morning Ahmad, do you want to get lunch today?\n",
      "Good morning Anjaney, do you want to get lunch today?\n",
      "Good morning Rethika, do you want to get lunch today?\n",
      "Good morning Olivette, do you want to get lunch today?\n"
     ]
    }
   ],
   "source": [
    "names = ['Gracia', 'Ahmad', 'Anjaney', 'Rethika', 'Olivette']\n",
    "message_gracia = f\"Good morning {names[0].title()}, do you want to get lunch today?\"\n",
    "message_ahmad = f\"Good morning {names[1].title()}, do you want to get lunch today?\"\n",
    "message_anjaney = f\"Good morning {names[2].title()}, do you want to get lunch today?\"\n",
    "message_rethika = f\"Good morning {names[3].title()}, do you want to get lunch today?\"\n",
    "message_olivette = f\"Good morning {names[4].title()}, do you want to get lunch today?\"\n",
    "\n",
    "print(message_gracia)\n",
    "print(message_ahmad)\n",
    "print(message_anjaney)\n",
    "print(message_rethika)\n",
    "print(message_olivette)"
   ]
  },
  {
   "cell_type": "markdown",
   "metadata": {},
   "source": [
    "## Question 3\n",
    "**Your Own List:** Think of your favorite mode of transportation, such as a motorcycle or a car, and make a list that stores several examples. Use your list to print a series of statements about these items, such as “I would like to own a Honda motorcycle.” "
   ]
  },
  {
   "cell_type": "code",
   "execution_count": 180,
   "metadata": {},
   "outputs": [
    {
     "name": "stdout",
     "output_type": "stream",
     "text": [
      "I really want to own a car like the Nissan 240 Sx.\n",
      "I really want to own a car like the Mx-5 Miata.\n",
      "I really want to own a car like the Mazda Rx-7.\n",
      "I really want to own a car like the Nissan Skyline.\n",
      "I really want to own a car like the Nissan S13.\n",
      "I really want to own a car like the Honda S2000.\n"
     ]
    }
   ],
   "source": [
    "cars = ['Nissan 240 sx', 'MX-5 Miata', 'Mazda RX-7', 'Nissan Skyline', 'Nissan S13', 'Honda S2000']\n",
    "sx = f\"I really want to own a car like the {cars[0].title()}.\"\n",
    "miata = f\"I really want to own a car like the {cars[1].title()}.\"\n",
    "rx = f\"I really want to own a car like the {cars[2].title()}.\"\n",
    "skyline = f\"I really want to own a car like the {cars[3].title()}.\"\n",
    "s13 = f\"I really want to own a car like the {cars[4].title()}.\"\n",
    "honda = f\"I really want to own a car like the {cars[5].title()}.\"\n",
    "print(sx)\n",
    "print(miata)\n",
    "print(rx)\n",
    "print(skyline)\n",
    "print(s13)\n",
    "print(honda)"
   ]
  },
  {
   "cell_type": "markdown",
   "metadata": {},
   "source": [
    "## Question 4\n",
    "**Guest List:** If you could invite anyone, living or deceased, to dinner, who would you invite? Make a list that includes at least three people you’d like to invite to dinner. Then use your list to print a message to each person, inviting them to dinner."
   ]
  },
  {
   "cell_type": "code",
   "execution_count": 238,
   "metadata": {},
   "outputs": [
    {
     "name": "stdout",
     "output_type": "stream",
     "text": [
      "Good evening, Bernie Sanders, I would like to formally invite you to a dinner this coming Thursday.\n",
      "Goed evening, Leslie Jordan, I would like to formally invite you to a dinner this coming Thursday.\n",
      "Good evening, Rupaul, I would like to formally invite you to a dinner this coming Thursday.\n"
     ]
    }
   ],
   "source": [
    "guests = ['Bernie Sanders', 'Leslie Jordan', 'RuPaul']\n",
    "message_bernie = f\"Good evening, {guests[0].title()}, I would like to formally invite you to a dinner this coming Thursday.\"\n",
    "message_leslie = f\"Goed evening, {guests[1].title()}, I would like to formally invite you to a dinner this coming Thursday.\"\n",
    "message_RuPaul = f\"Good evening, {guests[2].title()}, I would like to formally invite you to a dinner this coming Thursday.\"\n",
    "print(message_bernie)\n",
    "print(message_leslie)\n",
    "print(message_RuPaul)"
   ]
  },
  {
   "cell_type": "markdown",
   "metadata": {},
   "source": [
    "## Question 5\n",
    "**Changing Guest List:** You just heard that one of your guests can’t make the dinner, so you need to send out a new set of invitations. You’ll have to think of someone else to invite."
   ]
  },
  {
   "cell_type": "markdown",
   "metadata": {},
   "source": [
    "Start with your program from Question 4. Add a print() call at the end of your program stating the name of the guest who can’t make it."
   ]
  },
  {
   "cell_type": "code",
   "execution_count": 239,
   "metadata": {},
   "outputs": [
    {
     "name": "stdout",
     "output_type": "stream",
     "text": [
      "Good evening, Bernie Sanders, I would like to formally invite you to a dinner this coming Thursday.\n",
      "Goed evening, Leslie Jordan, I would like to formally invite you to a dinner this coming Thursday.\n",
      "Good evening, Rupaul, I would like to formally invite you to a dinner this coming Thursday.\n",
      "Unfortunately, Leslie Jordan won't be able to attend the dinner.\n"
     ]
    }
   ],
   "source": [
    "guests = ['Bernie Sanders', 'Leslie Jordan', 'RuPaul']\n",
    "message_bernie = f\"Good evening, {guests[0].title()}, I would like to formally invite you to a dinner this coming Thursday.\"\n",
    "message_leslie = f\"Goed evening, {guests[1].title()}, I would like to formally invite you to a dinner this coming Thursday.\"\n",
    "message_RuPaul = f\"Good evening, {guests[2].title()}, I would like to formally invite you to a dinner this coming Thursday.\"\n",
    "canceled = f\"Unfortunately, {guests[1].title()} won't be able to attend the dinner.\"\n",
    "print(message_bernie)\n",
    "print(message_leslie)\n",
    "print(message_RuPaul)\n",
    "print(canceled)"
   ]
  },
  {
   "cell_type": "markdown",
   "metadata": {},
   "source": [
    "Modify your list, replacing the name of the guest who can’t make it with the name of the new person you are inviting."
   ]
  },
  {
   "cell_type": "code",
   "execution_count": 240,
   "metadata": {},
   "outputs": [
    {
     "name": "stdout",
     "output_type": "stream",
     "text": [
      "['Bernie Sanders', 'Meryl Streep', 'RuPaul']\n"
     ]
    }
   ],
   "source": [
    "guests = ['Bernie Sanders', 'Leslie Jordan', 'RuPaul']\n",
    "del guests[1]\n",
    "guests.insert(1, 'Meryl Streep')\n",
    "print(guests)"
   ]
  },
  {
   "cell_type": "markdown",
   "metadata": {},
   "source": [
    "Print a second set of invitation messages, one for each person who is still in your list."
   ]
  },
  {
   "cell_type": "code",
   "execution_count": 242,
   "metadata": {},
   "outputs": [
    {
     "name": "stdout",
     "output_type": "stream",
     "text": [
      "Good evening, Bernie Sanders, I would like to formally invite you to a dinner this coming Thursday.\n",
      "Goed evening, Meryl Streep, I would like to formally invite you to a dinner this coming Thursday.\n",
      "Good evening, Rupaul, I would like to formally invite you to a dinner this coming Thursday.\n"
     ]
    }
   ],
   "source": [
    "message_bernie = f\"Good evening, {guests[0].title()}, I would like to formally invite you to a dinner this coming Thursday.\"\n",
    "message_meryl = f\"Goed evening, {guests[1].title()}, I would like to formally invite you to a dinner this coming Thursday.\"\n",
    "message_RuPaul = f\"Good evening, {guests[2].title()}, I would like to formally invite you to a dinner this coming Thursday.\"\n",
    "print(message_bernie)\n",
    "print(message_meryl)\n",
    "print(message_RuPaul)"
   ]
  },
  {
   "cell_type": "markdown",
   "metadata": {},
   "source": [
    "## Question 6\n",
    "**More Guests:** You just found a bigger dinner table, so now more space is available. Think of three more guests to invite to dinner."
   ]
  },
  {
   "cell_type": "markdown",
   "metadata": {},
   "source": [
    "Start with your program from Question 4 or Question 5. Add a print() call to the end of your program informing people that you found a bigger dinner table."
   ]
  },
  {
   "cell_type": "code",
   "execution_count": 243,
   "metadata": {},
   "outputs": [
    {
     "name": "stdout",
     "output_type": "stream",
     "text": [
      "Good evening, Bernie Sanders, I would like to formally invite you to a dinner this coming Thursday.\n",
      "Goed evening, Meryl Streep, I would like to formally invite you to a dinner this coming Thursday.\n",
      "Good evening, Rupaul, I would like to formally invite you to a dinner this coming Thursday.\n",
      "A larger table just opened up, I am going to invite more guests!\n"
     ]
    }
   ],
   "source": [
    "message_bernie = f\"Good evening, {guests[0].title()}, I would like to formally invite you to a dinner this coming Thursday.\"\n",
    "message_meryl = f\"Goed evening, {guests[1].title()}, I would like to formally invite you to a dinner this coming Thursday.\"\n",
    "message_RuPaul = f\"Good evening, {guests[2].title()}, I would like to formally invite you to a dinner this coming Thursday.\"\n",
    "print(message_bernie)\n",
    "print(message_meryl)\n",
    "print(message_RuPaul)\n",
    "print(\"A larger table just opened up, I am going to invite more guests!\")"
   ]
  },
  {
   "cell_type": "markdown",
   "metadata": {},
   "source": [
    "Use insert() to add one new guest to the beginning of your list."
   ]
  },
  {
   "cell_type": "code",
   "execution_count": 244,
   "metadata": {},
   "outputs": [
    {
     "name": "stdout",
     "output_type": "stream",
     "text": [
      "['Martha Stewart', 'Bernie Sanders', 'Meryl Streep', 'RuPaul']\n"
     ]
    }
   ],
   "source": [
    "guests.insert(0, 'Martha Stewart')\n",
    "print(guests)"
   ]
  },
  {
   "cell_type": "markdown",
   "metadata": {},
   "source": [
    "Use insert() to add one new guest to the middle of your list."
   ]
  },
  {
   "cell_type": "code",
   "execution_count": 245,
   "metadata": {},
   "outputs": [
    {
     "name": "stdout",
     "output_type": "stream",
     "text": [
      "['Martha Stewart', 'Bernie Sanders', 'Snoop Dogg', 'Meryl Streep', 'RuPaul']\n"
     ]
    }
   ],
   "source": [
    "guests.insert(2, 'Snoop Dogg')\n",
    "print(guests)"
   ]
  },
  {
   "cell_type": "markdown",
   "metadata": {},
   "source": [
    "Use append() to add one new guest to the end of your list."
   ]
  },
  {
   "cell_type": "code",
   "execution_count": 246,
   "metadata": {},
   "outputs": [
    {
     "name": "stdout",
     "output_type": "stream",
     "text": [
      "['Martha Stewart', 'Bernie Sanders', 'Snoop Dogg', 'Meryl Streep', 'RuPaul', 'Emma Stone']\n"
     ]
    }
   ],
   "source": [
    "guests.append('Emma Stone')\n",
    "print(guests)"
   ]
  },
  {
   "cell_type": "markdown",
   "metadata": {},
   "source": [
    "Print a new set of invitation messages, one for each person in your list."
   ]
  },
  {
   "cell_type": "code",
   "execution_count": 247,
   "metadata": {},
   "outputs": [
    {
     "name": "stdout",
     "output_type": "stream",
     "text": [
      "Good evening, Martha Stewart, I would like to formally invite you to a dinner this coming Thursday.\n",
      "Goed evening, Bernie Sanders, I would like to formally invite you to a dinner this coming Thursday.\n",
      "Good evening, Snoop Dogg, I would like to formally invite you to a dinner this coming Thursday.\n",
      "Good evening, Meryl Streep, I would like to formally invite you to a dinner this coming Thursday.\n",
      "Good evening, Rupaul, I would like to formally invite you to a dinner this coming Thursday.\n",
      "Good evening, Emma Stone, I would like to formally invite you to a dinner this coming Thursday.\n"
     ]
    }
   ],
   "source": [
    "message_martha = f\"Good evening, {guests[0].title()}, I would like to formally invite you to a dinner this coming Thursday.\"\n",
    "message_bernie = f\"Goed evening, {guests[1].title()}, I would like to formally invite you to a dinner this coming Thursday.\"\n",
    "message_snoop = f\"Good evening, {guests[2].title()}, I would like to formally invite you to a dinner this coming Thursday.\"\n",
    "message_meryl = f\"Good evening, {guests[3].title()}, I would like to formally invite you to a dinner this coming Thursday.\"\n",
    "message_rupaul = f\"Good evening, {guests[4].title()}, I would like to formally invite you to a dinner this coming Thursday.\"\n",
    "message_emma = f\"Good evening, {guests[5].title()}, I would like to formally invite you to a dinner this coming Thursday.\"\n",
    "print(message_martha)\n",
    "print(message_bernie)\n",
    "print(message_snoop)\n",
    "print(message_meryl)\n",
    "print(message_rupaul)\n",
    "print(message_emma)"
   ]
  },
  {
   "cell_type": "markdown",
   "metadata": {},
   "source": [
    "## Question 7\n",
    "**Shrinking Guest List:** You just found out that your new dinner table won’t arrive in time for the dinner, and you have space for only two guests.\n",
    "\n",
    "Start with your program from Question 6. Add a new line that prints a message saying that you can invite only two people for dinner."
   ]
  },
  {
   "cell_type": "code",
   "execution_count": 248,
   "metadata": {},
   "outputs": [
    {
     "name": "stdout",
     "output_type": "stream",
     "text": [
      "Good evening, Martha Stewart, I would like to formally invite you to a dinner this coming Thursday.\n",
      "Goed evening, Bernie Sanders, I would like to formally invite you to a dinner this coming Thursday.\n",
      "Good evening, Snoop Dogg, I would like to formally invite you to a dinner this coming Thursday.\n",
      "Good evening, Meryl Streep, I would like to formally invite you to a dinner this coming Thursday.\n",
      "Good evening, Rupaul, I would like to formally invite you to a dinner this coming Thursday.\n",
      "Good evening, Emma Stone, I would like to formally invite you to a dinner this coming Thursday.\n",
      "I appologize, but the larger dinner table is no longer an option and only two guests will be able to attend the dinner.\n"
     ]
    }
   ],
   "source": [
    "message_martha = f\"Good evening, {guests[0].title()}, I would like to formally invite you to a dinner this coming Thursday.\"\n",
    "message_bernie = f\"Goed evening, {guests[1].title()}, I would like to formally invite you to a dinner this coming Thursday.\"\n",
    "message_snoop = f\"Good evening, {guests[2].title()}, I would like to formally invite you to a dinner this coming Thursday.\"\n",
    "message_meryl = f\"Good evening, {guests[3].title()}, I would like to formally invite you to a dinner this coming Thursday.\"\n",
    "message_rupaul = f\"Good evening, {guests[4].title()}, I would like to formally invite you to a dinner this coming Thursday.\"\n",
    "message_emma = f\"Good evening, {guests[5].title()}, I would like to formally invite you to a dinner this coming Thursday.\"\n",
    "print(message_martha)\n",
    "print(message_bernie)\n",
    "print(message_snoop)\n",
    "print(message_meryl)\n",
    "print(message_rupaul)\n",
    "print(message_emma)\n",
    "print(\"I appologize, but the larger dinner table is no longer an option and only two guests will be able to attend the dinner.\")"
   ]
  },
  {
   "cell_type": "markdown",
   "metadata": {},
   "source": [
    "Use pop() to remove guests from your list one at a time until only two names remain in your list. Each time you pop a name from your list, print a message to that person letting them know you’re sorry you can’t invite them to dinner."
   ]
  },
  {
   "cell_type": "code",
   "execution_count": 249,
   "metadata": {},
   "outputs": [
    {
     "name": "stdout",
     "output_type": "stream",
     "text": [
      "['Martha Stewart', 'Bernie Sanders', 'Snoop Dogg', 'Meryl Streep', 'RuPaul', 'Emma Stone']\n",
      "I am sorry Emma Stone, there is no longer any availability for the dinner.\n",
      "I am sorry RuPaul, there is no longer any availability for the dinner.\n",
      "I am sorry Meryl Streep, there is no longer any availability for the dinner.\n",
      "I am sorry Snoop Dogg, there is no longer any availability for the dinner.\n",
      "['Martha Stewart', 'Bernie Sanders']\n"
     ]
    }
   ],
   "source": [
    "print(guests)\n",
    "print(f\"I am sorry {guests.pop()}, there is no longer any availability for the dinner.\")\n",
    "print(f\"I am sorry {guests.pop()}, there is no longer any availability for the dinner.\")\n",
    "print(f\"I am sorry {guests.pop()}, there is no longer any availability for the dinner.\")\n",
    "print(f\"I am sorry {guests.pop()}, there is no longer any availability for the dinner.\")\n",
    "print(guests)"
   ]
  },
  {
   "cell_type": "markdown",
   "metadata": {},
   "source": [
    "Print a message to each of the two people still on your list, letting them know they’re still invited."
   ]
  },
  {
   "cell_type": "code",
   "execution_count": 250,
   "metadata": {},
   "outputs": [
    {
     "name": "stdout",
     "output_type": "stream",
     "text": [
      "Hi, Martha Stewart, I would like to verify that you are still invited to dinner Thursday night.\n",
      "Hi, Bernie Sanders, I would like to verify that you are still invited to dinner Thursday night.\n"
     ]
    }
   ],
   "source": [
    "print(f\"Hi, {guests[0].title()}, I would like to verify that you are still invited to dinner Thursday night.\")\n",
    "print(f\"Hi, {guests[1].title()}, I would like to verify that you are still invited to dinner Thursday night.\")"
   ]
  },
  {
   "cell_type": "markdown",
   "metadata": {},
   "source": [
    "Use del to remove the last two names from your list, so you have an empty list. Print your list to make sure you actually have an empty list at the end of your program."
   ]
  },
  {
   "cell_type": "code",
   "execution_count": 251,
   "metadata": {},
   "outputs": [
    {
     "name": "stdout",
     "output_type": "stream",
     "text": [
      "[]\n"
     ]
    }
   ],
   "source": [
    "del guests[0]\n",
    "del guests[0]\n",
    "print(guests)"
   ]
  },
  {
   "cell_type": "markdown",
   "metadata": {},
   "source": [
    "## Question 8\n",
    "**Seeing the World:** Think of at least five places in the world you’d like to visit.\n",
    "\n",
    "Store the locations in a list. Make sure the list is not in alphabetical order."
   ]
  },
  {
   "cell_type": "code",
   "execution_count": 252,
   "metadata": {},
   "outputs": [],
   "source": [
    "travel_places = ['Ireland', 'Bora Bora', 'Machu Picchu', 'Kyoto', 'Santorini']"
   ]
  },
  {
   "cell_type": "markdown",
   "metadata": {},
   "source": [
    "Print your list in its original order. Don’t worry about printing the list neatly, just print it as a raw Python list."
   ]
  },
  {
   "cell_type": "code",
   "execution_count": 195,
   "metadata": {},
   "outputs": [
    {
     "name": "stdout",
     "output_type": "stream",
     "text": [
      "['Ireland', 'Bora Bora', 'Machu Picchu', 'Kyoto', 'Santorini']\n"
     ]
    }
   ],
   "source": [
    "print(travel_places)"
   ]
  },
  {
   "cell_type": "markdown",
   "metadata": {},
   "source": [
    "Use sorted() to print your list in alphabetical order without modifying the actual list."
   ]
  },
  {
   "cell_type": "code",
   "execution_count": 196,
   "metadata": {},
   "outputs": [
    {
     "name": "stdout",
     "output_type": "stream",
     "text": [
      "['Bora Bora', 'Ireland', 'Kyoto', 'Machu Picchu', 'Santorini']\n"
     ]
    }
   ],
   "source": [
    "print(sorted(travel_places))"
   ]
  },
  {
   "cell_type": "markdown",
   "metadata": {},
   "source": [
    "Show that your list is still in its original order by printing it."
   ]
  },
  {
   "cell_type": "code",
   "execution_count": 197,
   "metadata": {},
   "outputs": [
    {
     "name": "stdout",
     "output_type": "stream",
     "text": [
      "['Ireland', 'Bora Bora', 'Machu Picchu', 'Kyoto', 'Santorini']\n"
     ]
    }
   ],
   "source": [
    "print(travel_places)"
   ]
  },
  {
   "cell_type": "markdown",
   "metadata": {},
   "source": [
    "Use sorted() to print your list in reverse alphabetical order without changing the order of the original list."
   ]
  },
  {
   "cell_type": "code",
   "execution_count": 198,
   "metadata": {},
   "outputs": [
    {
     "name": "stdout",
     "output_type": "stream",
     "text": [
      "['Santorini', 'Machu Picchu', 'Kyoto', 'Ireland', 'Bora Bora']\n"
     ]
    }
   ],
   "source": [
    "print(sorted(travel_places, reverse=True))"
   ]
  },
  {
   "cell_type": "markdown",
   "metadata": {},
   "source": [
    "Show that your list is still in its original order by printing it again."
   ]
  },
  {
   "cell_type": "code",
   "execution_count": 199,
   "metadata": {},
   "outputs": [
    {
     "name": "stdout",
     "output_type": "stream",
     "text": [
      "['Ireland', 'Bora Bora', 'Machu Picchu', 'Kyoto', 'Santorini']\n"
     ]
    }
   ],
   "source": [
    "print(travel_places)"
   ]
  },
  {
   "cell_type": "markdown",
   "metadata": {},
   "source": [
    "Use reverse() to change the order of your list. Print the list to show that its order has changed."
   ]
  },
  {
   "cell_type": "code",
   "execution_count": 200,
   "metadata": {},
   "outputs": [
    {
     "name": "stdout",
     "output_type": "stream",
     "text": [
      "['Santorini', 'Kyoto', 'Machu Picchu', 'Bora Bora', 'Ireland']\n"
     ]
    }
   ],
   "source": [
    "travel_places.reverse()\n",
    "print(travel_places)"
   ]
  },
  {
   "cell_type": "markdown",
   "metadata": {},
   "source": [
    "Use reverse() to change the order of your list again. Print the list to show it’s back to its original order."
   ]
  },
  {
   "cell_type": "code",
   "execution_count": 201,
   "metadata": {},
   "outputs": [
    {
     "name": "stdout",
     "output_type": "stream",
     "text": [
      "['Ireland', 'Bora Bora', 'Machu Picchu', 'Kyoto', 'Santorini']\n"
     ]
    }
   ],
   "source": [
    "travel_places.reverse()\n",
    "print(travel_places)"
   ]
  },
  {
   "cell_type": "markdown",
   "metadata": {},
   "source": [
    "Use sort() to change your list so it’s stored in alphabetical order. Print the list to show that its order has been changed."
   ]
  },
  {
   "cell_type": "code",
   "execution_count": 202,
   "metadata": {},
   "outputs": [
    {
     "name": "stdout",
     "output_type": "stream",
     "text": [
      "['Bora Bora', 'Ireland', 'Kyoto', 'Machu Picchu', 'Santorini']\n"
     ]
    }
   ],
   "source": [
    "travel_places.sort()\n",
    "print(travel_places)"
   ]
  },
  {
   "cell_type": "markdown",
   "metadata": {},
   "source": [
    "Use sort() to change your list so it’s stored in reverse alphabetical order. Print the list to show that its order has changed."
   ]
  },
  {
   "cell_type": "code",
   "execution_count": 203,
   "metadata": {},
   "outputs": [
    {
     "name": "stdout",
     "output_type": "stream",
     "text": [
      "['Santorini', 'Machu Picchu', 'Kyoto', 'Ireland', 'Bora Bora']\n"
     ]
    }
   ],
   "source": [
    "travel_places.sort(reverse=True)\n",
    "print(travel_places)"
   ]
  },
  {
   "cell_type": "markdown",
   "metadata": {},
   "source": [
    "## Question 9\n",
    "**Dinner Guests:** Working with one of the programs from Question 4 through Question 7, use len() to print a message indicating the number of people you are inviting to dinner."
   ]
  },
  {
   "cell_type": "code",
   "execution_count": 204,
   "metadata": {},
   "outputs": [
    {
     "data": {
      "text/plain": [
       "3"
      ]
     },
     "execution_count": 204,
     "metadata": {},
     "output_type": "execute_result"
    }
   ],
   "source": [
    "guests = ['Bernie Sanders', 'Leslie Jordan', 'RuPaul']\n",
    "len(guests)"
   ]
  },
  {
   "cell_type": "markdown",
   "metadata": {},
   "source": [
    "## Question 10\n",
    "**Every Function:** Think of something you could store in a list. For example, you could make a list of mountains, rivers, countries, cities, languages, or anything else you’d like. Write a program that creates a list containing these items and then uses each function introduced in this chapter at least once."
   ]
  },
  {
   "cell_type": "code",
   "execution_count": 253,
   "metadata": {},
   "outputs": [
    {
     "name": "stdout",
     "output_type": "stream",
     "text": [
      "There are 8 different evolutions: ['umbreon', 'sylveon', 'espeon', 'vaporeon', 'glaceon', 'flareon', 'jolteon', 'leafeon'].\n",
      "My favorite one is Leafeon.\n",
      "\n",
      "Insert and Delete:\n",
      "['umbreon', 'ditto', 'espeon', 'vaporeon', 'glaceon', 'flareon', 'jolteon', 'leafeon']\n",
      "\n",
      "Appended List\n",
      "['umbreon', 'ditto', 'espeon', 'vaporeon', 'glaceon', 'flareon', 'jolteon', 'leafeon', 'pikachu']\n",
      "\n",
      "Pop List:\n",
      "Glaceon\n",
      "\n",
      "Sorted Lists\n",
      "['ditto', 'espeon', 'flareon', 'jolteon', 'leafeon', 'pikachu', 'umbreon', 'vaporeon']\n",
      "['vaporeon', 'umbreon', 'pikachu', 'leafeon', 'jolteon', 'flareon', 'espeon', 'ditto']\n",
      "\n",
      "Reversed List:\n",
      "['pikachu', 'leafeon', 'jolteon', 'flareon', 'vaporeon', 'espeon', 'ditto', 'umbreon']\n",
      "['umbreon', 'ditto', 'espeon', 'vaporeon', 'flareon', 'jolteon', 'leafeon', 'pikachu']\n",
      "\n",
      "Sort Lists:\n",
      "['ditto', 'espeon', 'flareon', 'jolteon', 'leafeon', 'pikachu', 'umbreon', 'vaporeon']\n",
      "['vaporeon', 'umbreon', 'pikachu', 'leafeon', 'jolteon', 'flareon', 'espeon', 'ditto']\n",
      "\n",
      "Length\n",
      "8\n"
     ]
    }
   ],
   "source": [
    "pokemon = ['umbreon', 'sylveon', 'espeon', 'vaporeon', 'glaceon', 'flareon', 'jolteon', 'leafeon']\n",
    "print(f\"There are 8 different evolutions: {pokemon}.\")\n",
    "print(f\"My favorite one is {pokemon[7].title()}.\")\n",
    "del pokemon[1]\n",
    "pokemon.insert(1, 'ditto')\n",
    "print('\\nInsert and Delete:')\n",
    "print(pokemon)\n",
    "pokemon.append('pikachu')\n",
    "print('\\nAppended List')\n",
    "print(pokemon)\n",
    "pop_pokemon = pokemon.pop(4).title()\n",
    "print('\\nPop List:')\n",
    "print(pop_pokemon)\n",
    "print('\\nSorted Lists')\n",
    "print(sorted(pokemon))\n",
    "print(sorted(pokemon, reverse=True))\n",
    "print('\\nReversed List:')\n",
    "pokemon.reverse()\n",
    "print(pokemon)\n",
    "pokemon.reverse()\n",
    "print(pokemon)\n",
    "print('\\nSort Lists:')\n",
    "pokemon.sort()\n",
    "print(pokemon)\n",
    "pokemon.sort(reverse=True)\n",
    "print(pokemon)\n",
    "print('\\nLength')\n",
    "print(len(pokemon))"
   ]
  },
  {
   "cell_type": "code",
   "execution_count": null,
   "metadata": {},
   "outputs": [],
   "source": []
  }
 ],
 "metadata": {
  "kernelspec": {
   "display_name": "Python 3 (ipykernel)",
   "language": "python",
   "name": "python3"
  },
  "language_info": {
   "codemirror_mode": {
    "name": "ipython",
    "version": 3
   },
   "file_extension": ".py",
   "mimetype": "text/x-python",
   "name": "python",
   "nbconvert_exporter": "python",
   "pygments_lexer": "ipython3",
   "version": "3.11.4"
  }
 },
 "nbformat": 4,
 "nbformat_minor": 2
}
