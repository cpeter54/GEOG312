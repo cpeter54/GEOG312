{
 "cells": [
  {
   "cell_type": "markdown",
   "metadata": {},
   "source": [
    "[![image](https://colab.research.google.com/assets/colab-badge.svg)](https://colab.research.google.com/github/giswqs/geog-312/blob/master/labs/lab_07.ipynb)\n",
    "[![image](https://binder.pangeo.io/badge_logo.svg)](https://gishub.org/geog312-pangeo)\n",
    "\n",
    "**Caroline Petersen**"
   ]
  },
  {
   "cell_type": "code",
   "execution_count": null,
   "metadata": {},
   "outputs": [],
   "source": [
    "from datetime import datetime\n",
    "\n",
    "now = datetime.now()\n",
    "print(f\"Submitted time: {now}\")"
   ]
  },
  {
   "cell_type": "markdown",
   "metadata": {},
   "source": [
    "## Question 1\n",
    "**Learning Python:** Open a blank file in your text editor and write a few lines summarizing what you’ve learned about Python so far. Start each line with the phrase *In Python you can. . ..* Save the file as *learning_python.txt* in the same directory as your exercises from this chapter. Write a program that reads the file and prints what you wrote three times. Print the contents once by reading in the entire file, once by looping over the file object, and once by storing the lines in a list and then working with them outside the *with* block."
   ]
  },
  {
   "cell_type": "code",
   "execution_count": 2,
   "metadata": {},
   "outputs": [
    {
     "name": "stdout",
     "output_type": "stream",
     "text": [
      "In Python you can use data structures like lists, tuples, sets, and dictionaries for organizing and storing data.\n",
      "In Python you can use a for loop to iterate over sequences.\n",
      "In Python you can use a while loop to repeat a block of code while a condition is true.\n"
     ]
    }
   ],
   "source": [
    "with open('/Users/carolinelpetersen/Desktop/GEOG312/learning_python.txt') as file_object:\n",
    "    contents = file_object.read()\n",
    "print(contents)"
   ]
  },
  {
   "cell_type": "markdown",
   "metadata": {},
   "source": [
    "## Question 2\n",
    "**Learning C:** You can use the replace() method to replace any word in a string with a different word. Here’s a quick example showing how to replace 'dog' with 'cat' in a sentence:\n",
    "```\n",
    "message = \"I really like dogs.\"\n",
    "message.replace('dog', 'cat')\n",
    "'I really like cats.'\n",
    "```\n",
    "Read in each line from the file you just created, *learning_python.txt*, and replace the word *Python* with the name of another language, such as *C*. Print each modified line to the screen."
   ]
  },
  {
   "cell_type": "code",
   "execution_count": 3,
   "metadata": {},
   "outputs": [
    {
     "name": "stdout",
     "output_type": "stream",
     "text": [
      "In C you can use data structures like lists, tuples, sets, and dictionaries for organizing and storing data.\n",
      "In C you can use a for loop to iterate over sequences.\n",
      "In C you can use a while loop to repeat a block of code while a condition is true.\n"
     ]
    }
   ],
   "source": [
    "file_path = '/Users/carolinelpetersen/Desktop/GEOG312/learning_python.txt'\n",
    "\n",
    "with open(file_path, 'r') as file_object:\n",
    "    for line in file_object:\n",
    "        modified_line = line.replace('Python', 'C')\n",
    "        print(modified_line.strip())"
   ]
  },
  {
   "cell_type": "markdown",
   "metadata": {},
   "source": [
    "## Question 3\n",
    "**Guest:** Write a program that prompts the user for their name. When they respond, write their name to a file called guest.txt."
   ]
  },
  {
   "cell_type": "code",
   "execution_count": 4,
   "metadata": {},
   "outputs": [
    {
     "name": "stdout",
     "output_type": "stream",
     "text": [
      "Please enter your name: Caroline\n",
      "Hello, Caroline! Your name has been written to guest.txt.\n"
     ]
    }
   ],
   "source": [
    "user_name = input(\"Please enter your name: \")\n",
    "\n",
    "file_path = 'guest.txt'\n",
    "\n",
    "with open(file_path, 'w') as file_object:\n",
    "    file_object.write(user_name)\n",
    "\n",
    "print(f\"Hello, {user_name}! Your name has been written to {file_path}.\")"
   ]
  },
  {
   "cell_type": "markdown",
   "metadata": {},
   "source": [
    "## Question 4\n",
    "**Guest Book:** Write a while loop that prompts users for their name. When they enter their name, print a greeting to the screen and add a line recording their visit in a file called guest_book.txt. Make sure each entry appears on a new line in the file."
   ]
  },
  {
   "cell_type": "code",
   "execution_count": 32,
   "metadata": {},
   "outputs": [
    {
     "name": "stdout",
     "output_type": "stream",
     "text": [
      "Please enter your name (enter 'quit' to exit): Carson\n",
      "Hello, Carson! Welcome!\n",
      "Please enter your name (enter 'quit' to exit): Adrienne\n",
      "Hello, Adrienne! Welcome!\n",
      "Please enter your name (enter 'quit' to exit): Ben\n",
      "Hello, Ben! Welcome!\n",
      "Please enter your name (enter 'quit' to exit): quit\n"
     ]
    }
   ],
   "source": [
    "file_path = 'guest_book.txt'\n",
    "\n",
    "while True:\n",
    "    user_name = input(\"Please enter your name (enter 'quit' to exit): \")\n",
    "\n",
    "    if user_name == 'quit':\n",
    "        break\n",
    "\n",
    "    print(f\"Hello, {user_name}! Welcome!\")\n",
    "\n",
    "    with open(file_path, 'a') as file_object:\n",
    "        file_object.write(f\"{user_name}\\n\")"
   ]
  },
  {
   "cell_type": "markdown",
   "metadata": {},
   "source": [
    "## Question 5\n",
    "**Programming Poll:** Write a while loop that asks people why they like programming. Each time someone enters a reason, add their reason to a file that stores all the responses."
   ]
  },
  {
   "cell_type": "code",
   "execution_count": 34,
   "metadata": {},
   "outputs": [
    {
     "name": "stdout",
     "output_type": "stream",
     "text": [
      "Why do you like programming? (enter 'quit' to exit): It is challenging!\n",
      "Why do you like programming? (enter 'quit' to exit): quit\n"
     ]
    }
   ],
   "source": [
    "file_path = 'programming_poll_responses.txt'\n",
    "\n",
    "while True:\n",
    "    user_reason = input(\"Why do you like programming? (enter 'quit' to exit): \")\n",
    "\n",
    "    if user_reason == 'quit':\n",
    "        break\n",
    "\n",
    "    with open(file_path, 'a') as file_object:\n",
    "        file_object.write(f\"{user_reason}\\n\")"
   ]
  },
  {
   "cell_type": "markdown",
   "metadata": {},
   "source": [
    "## Question 6\n",
    "**Addition:** One common problem when prompting for numerical input occurs when people provide text instead of numbers. When you try to convert the input to an int, you’ll get a ValueError. Write a program that prompts for two numbers. Add them together and print the result. Catch the ValueError if either input value is not a number, and print a friendly error message. Test your program by entering two numbers and then by entering some text instead of a number."
   ]
  },
  {
   "cell_type": "code",
   "execution_count": 8,
   "metadata": {},
   "outputs": [
    {
     "name": "stdout",
     "output_type": "stream",
     "text": [
      "Enter the first number: 12\n",
      "Enter the first number: 3\n",
      "The sum of 12 and 3 is 15.\n"
     ]
    }
   ],
   "source": [
    "try:\n",
    "    x = input(\"Enter the first number: \")\n",
    "    x = int(x)\n",
    "\n",
    "    y = input(\"Enter the first number: \")\n",
    "    y = int(y)\n",
    "except ValueError:\n",
    "    print(\"A number is missing. Please include all numbers.\")\n",
    "else:\n",
    "    sum = x + y\n",
    "    print(f\"The sum of {x} and {y} is {sum}.\")"
   ]
  },
  {
   "cell_type": "markdown",
   "metadata": {},
   "source": [
    "## Question 7\n",
    "**Addition Calculator:** Wrap your code from Question 6 in a while loop so the user can continue entering numbers even if they make a mistake and enter text instead of a number."
   ]
  },
  {
   "cell_type": "code",
   "execution_count": 11,
   "metadata": {},
   "outputs": [
    {
     "name": "stdout",
     "output_type": "stream",
     "text": [
      "Enter the first number ('quit' to exit):  5\n",
      "Enter the first number: hi\n",
      "A number is missing. Please include all numbers.\n",
      "Enter the first number ('quit' to exit):  4\n",
      "Enter the first number: 5\n",
      "The sum of 4 and 5 is 9.\n",
      "Enter the first number ('quit' to exit):  quit\n"
     ]
    }
   ],
   "source": [
    "while True:\n",
    "    try:\n",
    "        x = input(\"Enter the first number ('quit' to exit):  \")\n",
    "        if x == 'quit':\n",
    "            break\n",
    "        x = int(x)\n",
    "\n",
    "        y = input(\"Enter the first number: \")\n",
    "        y = int(y)\n",
    "    except ValueError:\n",
    "        print(\"A number is missing. Please include all numbers.\")\n",
    "    else:\n",
    "        sum = x + y\n",
    "        print(f\"The sum of {x} and {y} is {sum}.\")"
   ]
  },
  {
   "cell_type": "markdown",
   "metadata": {},
   "source": [
    "## Question 8\n",
    "**Cats and Dogs:** Make two files, *cats.txt* and *dogs.txt*. Store at least three names of cats in the first file and three names of dogs in the second file. Write a program that tries to read these files and print the contents of the file to the screen. Wrap your code in a `try-except` block to catch the `FileNotFound` error, and print a friendly message if a file is missing. Move one of the files to a different location on your system, and make sure the code in the `except` block executes properly."
   ]
  },
  {
   "cell_type": "code",
   "execution_count": 35,
   "metadata": {},
   "outputs": [
    {
     "name": "stdout",
     "output_type": "stream",
     "text": [
      "Contents of cats.txt:\n",
      "JoJo\n",
      "Mochi\n",
      "Pepper\n",
      "\n",
      "Contents of dogs.txt:\n",
      "Jack\n",
      "Bear\n",
      "Zoe\n"
     ]
    }
   ],
   "source": [
    "try:\n",
    "    with open('cats.txt', 'r') as cats_file:\n",
    "        print(\"Contents of cats.txt:\")\n",
    "        print(cats_file.read())\n",
    "\n",
    "    with open('dogs.txt', 'r') as dogs_file:\n",
    "        print(\"\\nContents of dogs.txt:\")\n",
    "        print(dogs_file.read())\n",
    "\n",
    "except FileNotFoundError:\n",
    "    print(\"\\nFile not found. Please check the file location.\")"
   ]
  },
  {
   "cell_type": "markdown",
   "metadata": {},
   "source": [
    "## Question 9\n",
    "**Silent Cats and Dogs:** Modify your except block in Question 8 to fail silently if either file is missing."
   ]
  },
  {
   "cell_type": "code",
   "execution_count": 36,
   "metadata": {},
   "outputs": [
    {
     "name": "stdout",
     "output_type": "stream",
     "text": [
      "Contents of cats.txt:\n",
      "JoJo\n",
      "Mochi\n",
      "Pepper\n",
      "\n",
      "Contents of dogs.txt:\n",
      "Jack\n",
      "Bear\n",
      "Zoe\n"
     ]
    }
   ],
   "source": [
    "try:\n",
    "    with open('cats.txt', 'r') as cats_file:\n",
    "        print(\"Contents of cats.txt:\")\n",
    "        print(cats_file.read())\n",
    "\n",
    "    with open('dogs.txt', 'r') as dogs_file:\n",
    "        print(\"\\nContents of dogs.txt:\")\n",
    "        print(dogs_file.read())\n",
    "\n",
    "except FileNotFoundError:\n",
    "    pass "
   ]
  },
  {
   "cell_type": "markdown",
   "metadata": {},
   "source": [
    "## Question 10\n",
    "**Common Words:** Visit Project Gutenberg (https://gutenberg.org/) and find a few texts you’d like to analyze. Download the text files for these works, or copy the raw text from your browser into a text file on your computer. You can use the `count()` method to find out how many times a word or phrase appears in a string. For example, the following code counts the number of times 'row' appears in a string:"
   ]
  },
  {
   "cell_type": "code",
   "execution_count": 1,
   "metadata": {},
   "outputs": [
    {
     "data": {
      "text/plain": [
       "2"
      ]
     },
     "execution_count": 1,
     "metadata": {},
     "output_type": "execute_result"
    }
   ],
   "source": [
    "line = \"Row, row, row your boat\"\n",
    "line.count('row')"
   ]
  },
  {
   "cell_type": "code",
   "execution_count": 2,
   "metadata": {},
   "outputs": [
    {
     "data": {
      "text/plain": [
       "3"
      ]
     },
     "execution_count": 2,
     "metadata": {},
     "output_type": "execute_result"
    }
   ],
   "source": [
    "line.lower().count('row')"
   ]
  },
  {
   "cell_type": "markdown",
   "metadata": {},
   "source": [
    "Notice that converting the string to lowercase using lower() catches all appearances of the word you’re looking for, regardless of how it’s formatted.\n",
    "\n",
    "Write a program that reads the files you found at Project Gutenberg and determines how many times the word `the` appears in each text. This will be an approximation because it will also count words such as `then` and `there`. Try counting `the`, with a space in the string, and see how much lower your count is."
   ]
  },
  {
   "cell_type": "code",
   "execution_count": 37,
   "metadata": {},
   "outputs": [
    {
     "name": "stdout",
     "output_type": "stream",
     "text": [
      "'the' appears in A_Christmas_Carol.txt about 2558 times.\n",
      "' the ' appears in A_Christmas_Carol.txt about 1425 times.\n"
     ]
    }
   ],
   "source": [
    "def count_common_words(filename, word):\n",
    "    \"\"\"Count how many times the word appears in the text.\"\"\"\n",
    "    try:\n",
    "        with open(filename) as file:\n",
    "            contents = file.read()\n",
    "    except FileNotFoundError:\n",
    "        print(f\"\\nFile not found. Please check the file location.\")\n",
    "    else:\n",
    "        word_count = contents.lower().count(word)\n",
    "\n",
    "        appearance = f\"'{word}' appears in {filename} about {word_count} times.\"\n",
    "        print(appearance)\n",
    "\n",
    "file_path = 'A_Christmas_Carol.txt'\n",
    "count_common_words(file_path, 'the')\n",
    "count_common_words(file_path, ' the ')"
   ]
  },
  {
   "cell_type": "markdown",
   "metadata": {},
   "source": [
    "## Question 11\n",
    "**Favorite Number:** Write a program that prompts for the user’s favorite number. Use `json.dump()` to store this number in a file. Write a separate program that reads in this value and prints the message, `I know your favorite number! It’s _____.`"
   ]
  },
  {
   "cell_type": "code",
   "execution_count": 29,
   "metadata": {},
   "outputs": [
    {
     "name": "stdout",
     "output_type": "stream",
     "text": [
      "What's your favorite number? 4\n"
     ]
    }
   ],
   "source": [
    "import json\n",
    "\n",
    "favorite_number = input(\"What's your favorite number? \")\n",
    "\n",
    "with open('favorite_number.json', 'w') as file:\n",
    "    json.dump(favorite_number, file)"
   ]
  },
  {
   "cell_type": "code",
   "execution_count": 30,
   "metadata": {},
   "outputs": [
    {
     "name": "stdout",
     "output_type": "stream",
     "text": [
      "I know your favorite number! It's 4.\n"
     ]
    }
   ],
   "source": [
    "import json\n",
    "\n",
    "with open('favorite_number.json') as file:\n",
    "    number = json.load(file)\n",
    "\n",
    "print(f\"I know your favorite number! It's {favorite_number}.\")"
   ]
  },
  {
   "cell_type": "markdown",
   "metadata": {},
   "source": [
    "## Question 12\n",
    "**Favorite Number Remembered:** Combine the two programs from Question 10 into one file. If the number is already stored, report the favorite number to the user. If not, prompt for the user’s favorite number and store it in a file. Run the program twice to see that it works."
   ]
  },
  {
   "cell_type": "code",
   "execution_count": 31,
   "metadata": {},
   "outputs": [
    {
     "name": "stdout",
     "output_type": "stream",
     "text": [
      "I know your favorite number! It's 4.\n"
     ]
    }
   ],
   "source": [
    "import json\n",
    "\n",
    "try:\n",
    "    with open('favorite_number.json') as file:\n",
    "        favorite_number = json.load(file)\n",
    "        print(f\"I know your favorite number! It's {favorite_number}.\")\n",
    "except FileNotFoundError:\n",
    "    favorite_number = input(\"What's your favorite number? \")\n",
    "\n",
    "    with open('favorite_number.json', 'w') as file:\n",
    "        json.dump(favorite_number, file)\n",
    "        print(\"Favorite number saved!\")"
   ]
  }
 ],
 "metadata": {
  "kernelspec": {
   "display_name": "Python 3 (ipykernel)",
   "language": "python",
   "name": "python3"
  },
  "language_info": {
   "codemirror_mode": {
    "name": "ipython",
    "version": 3
   },
   "file_extension": ".py",
   "mimetype": "text/x-python",
   "name": "python",
   "nbconvert_exporter": "python",
   "pygments_lexer": "ipython3",
   "version": "3.11.4"
  }
 },
 "nbformat": 4,
 "nbformat_minor": 4
}
